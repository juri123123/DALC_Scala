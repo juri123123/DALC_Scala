{
  "nbformat": 4,
  "nbformat_minor": 0,
  "metadata": {
    "colab": {
      "name": "Untitled2.ipynb",
      "provenance": [],
      "authorship_tag": "ABX9TyPtuWyjxjZtL59iW3BBdsJ+",
      "include_colab_link": true
    },
    "kernelspec": {
      "name": "python3",
      "display_name": "Python 3"
    },
    "language_info": {
      "name": "python"
    }
  },
  "cells": [
    {
      "cell_type": "markdown",
      "metadata": {
        "id": "view-in-github",
        "colab_type": "text"
      },
      "source": [
        "<a href=\"https://colab.research.google.com/github/juri123123/DALC_Scala/blob/main/5%EC%A3%BC%EC%B0%A8.ipynb\" target=\"_parent\"><img src=\"https://colab.research.google.com/assets/colab-badge.svg\" alt=\"Open In Colab\"/></a>"
      ]
    },
    {
      "cell_type": "code",
      "metadata": {
        "id": "Pnj7ar09Ohb0"
      },
      "source": [
        "5주 과제\n",
        "Pandas 심화"
      ],
      "execution_count": null,
      "outputs": []
    },
    {
      "cell_type": "code",
      "metadata": {
        "id": "M87PN8AWOktW"
      },
      "source": [
        "1)csv 파일 : 쉼표로 구분, 확장자 .csv"
      ],
      "execution_count": null,
      "outputs": []
    },
    {
      "cell_type": "code",
      "metadata": {
        "colab": {
          "base_uri": "https://localhost:8080/",
          "height": 198
        },
        "id": "VyzN65aKOyXL",
        "outputId": "1dd1d021-af93-402a-bc73-fbfc9919cfd8"
      },
      "source": [
        "#읽기\n",
        "import pandas as pd\n",
        "csv_test = pd.read_csv()"
      ],
      "execution_count": 1,
      "outputs": [
        {
          "output_type": "error",
          "ename": "NameError",
          "evalue": "ignored",
          "traceback": [
            "\u001b[0;31m---------------------------------------------------------------------------\u001b[0m",
            "\u001b[0;31mNameError\u001b[0m                                 Traceback (most recent call last)",
            "\u001b[0;32m<ipython-input-1-576916918963>\u001b[0m in \u001b[0;36m<module>\u001b[0;34m()\u001b[0m\n\u001b[0;32m----> 1\u001b[0;31m \u001b[0mread_csv\u001b[0m\u001b[0;34m(\u001b[0m\u001b[0;34m)\u001b[0m \u001b[0;31m#읽기\u001b[0m\u001b[0;34m\u001b[0m\u001b[0;34m\u001b[0m\u001b[0m\n\u001b[0m",
            "\u001b[0;31mNameError\u001b[0m: name 'read_csv' is not defined"
          ]
        }
      ]
    },
    {
      "cell_type": "code",
      "metadata": {
        "id": "nG8agLrVPGdi"
      },
      "source": [
        "#쓰기\n",
        "csv_test.to_cst()"
      ],
      "execution_count": null,
      "outputs": []
    },
    {
      "cell_type": "code",
      "metadata": {
        "id": "6QHrz2z5PMut"
      },
      "source": [
        "rc = pd.read_csv(경로, header = None, encoding = 'euc-kr')"
      ],
      "execution_count": null,
      "outputs": []
    },
    {
      "cell_type": "code",
      "metadata": {
        "id": "Zx_B-a_KPZrQ"
      },
      "source": [
        "rc.columns=['','','']"
      ],
      "execution_count": null,
      "outputs": []
    },
    {
      "cell_type": "code",
      "metadata": {
        "id": "0hqlWwifPePV"
      },
      "source": [
        "rc.head(), rc.tail()"
      ],
      "execution_count": null,
      "outputs": []
    },
    {
      "cell_type": "code",
      "metadata": {
        "id": "Xboe4VilP01b"
      },
      "source": [
        "print(rc.shape) #행의 개수, 열의 개수 반환"
      ],
      "execution_count": null,
      "outputs": []
    },
    {
      "cell_type": "code",
      "metadata": {
        "id": "wznquGOYP5qV"
      },
      "source": [
        "print(rc.info()) #데이터프레임의 클래스, 인덱스, 열, 등등 정보 출력"
      ],
      "execution_count": null,
      "outputs": []
    },
    {
      "cell_type": "code",
      "metadata": {
        "id": "OIBuQWCoQBz-"
      },
      "source": [
        "print(rc.dtypes) #모든 열에 대한 정보\n",
        "print(rc.초미세먼지.dtypes)"
      ],
      "execution_count": null,
      "outputs": []
    },
    {
      "cell_type": "code",
      "metadata": {
        "id": "ToO7D3AeQM_n"
      },
      "source": [
        "print(rc.describe()) # 평균, 표준편차, 최대값, 최소값, 중간값 등"
      ],
      "execution_count": null,
      "outputs": []
    },
    {
      "cell_type": "code",
      "metadata": {
        "id": "6pJoQtlKQaGP"
      },
      "source": [
        "print(rc.count()) #각 열이 갖고 있는 요소의 개수\n",
        "#각 열의 고유값(행 인덱스), 개수는 데이터가 되는 시리즈 객체\n",
        "print(rc.['초미세먼지'].value_counts()) "
      ],
      "execution_count": null,
      "outputs": []
    },
    {
      "cell_type": "code",
      "metadata": {
        "id": "Fn7cQcPYQyLV"
      },
      "source": [
        "rc.mean() #평균\n",
        "rc['초미세먼지'].mean()\n",
        "rc.median #중간값균\n",
        "rc['초미세먼지'].median()\n",
        "rc.max()\n",
        "rc.min()\n",
        "rc.std() #표준편차\n",
        "rc.corr() #모든 열에 대해 2개씩 짝을 짓고 상관계수를 계산\n",
        "rc['초미세먼지', '미세먼지'].corr()"
      ],
      "execution_count": null,
      "outputs": []
    },
    {
      "cell_type": "code",
      "metadata": {
        "id": "0uZ1MfFkReMY"
      },
      "source": [
        "2)Pandas 내장 그래프\n",
        "matplotlib 라이브러리 기능의 일부\n",
        "plot() 시각화 내장 함수 이용\n"
      ],
      "execution_count": null,
      "outputs": []
    },
    {
      "cell_type": "code",
      "metadata": {
        "colab": {
          "base_uri": "https://localhost:8080/"
        },
        "id": "PvWzUt58RmQM",
        "outputId": "6e981bd9-1047-491c-d950-0c0c5adefeae"
      },
      "source": [
        "!apt -qq -y install fonts-nanum"
      ],
      "execution_count": 3,
      "outputs": [
        {
          "output_type": "stream",
          "text": [
            "The following package was automatically installed and is no longer required:\n",
            "  libnvidia-common-460\n",
            "Use 'apt autoremove' to remove it.\n",
            "The following NEW packages will be installed:\n",
            "  fonts-nanum\n",
            "0 upgraded, 1 newly installed, 0 to remove and 34 not upgraded.\n",
            "Need to get 9,604 kB of archives.\n",
            "After this operation, 29.5 MB of additional disk space will be used.\n",
            "Selecting previously unselected package fonts-nanum.\n",
            "(Reading database ... 160690 files and directories currently installed.)\n",
            "Preparing to unpack .../fonts-nanum_20170925-1_all.deb ...\n",
            "Unpacking fonts-nanum (20170925-1) ...\n",
            "Setting up fonts-nanum (20170925-1) ...\n",
            "Processing triggers for fontconfig (2.12.6-0ubuntu2) ...\n"
          ],
          "name": "stdout"
        }
      ]
    },
    {
      "cell_type": "code",
      "metadata": {
        "id": "ZXXR-R4TSAm7"
      },
      "source": [
        "import matplotlib as mpl\n",
        "import matplotlib.pyplot as plt\n",
        "import matplotlib.font_manager as fm\n",
        "fontpath = '/usr/share/fonts/truetype/nanum/NanumBarunGothic.ttf'\n",
        "font = fm.FontProperties(fname=fontpath, size=9)\n",
        "plt.rc('font', family=\"NanumBarunGothic\")\n",
        "mpl.font_manager._rebuild()"
      ],
      "execution_count": 5,
      "outputs": []
    },
    {
      "cell_type": "code",
      "metadata": {
        "colab": {
          "base_uri": "https://localhost:8080/",
          "height": 130
        },
        "id": "Atsx0-yYSxUw",
        "outputId": "1bf01625-c599-43f7-e2f4-22667d035f72"
      },
      "source": [
        "import pandas as pd\n",
        "data = pd.read_csv(~~)\n",
        "data.columns=['','']\n",
        "p_data = data.iloc[:, 5:]\n",
        "p_data.plot() #선그래프\n",
        "\n",
        "b_data.plot(kind='bar') #막대그래\n",
        "kind='hist' #히스토그램\n",
        "data.plot(x='미세먼지', y='초미세먼지', kind='scatter') #산점도\n",
        "data(['미세먼지', '초미세먼지'].plot(kind='box')) #박스플롯 /??...."
      ],
      "execution_count": 7,
      "outputs": [
        {
          "output_type": "error",
          "ename": "SyntaxError",
          "evalue": "ignored",
          "traceback": [
            "\u001b[0;36m  File \u001b[0;32m\"<ipython-input-7-991a88b62cbd>\"\u001b[0;36m, line \u001b[0;32m2\u001b[0m\n\u001b[0;31m    data = pd.read_csv(~~)\u001b[0m\n\u001b[0m                         ^\u001b[0m\n\u001b[0;31mSyntaxError\u001b[0m\u001b[0;31m:\u001b[0m invalid syntax\n"
          ]
        }
      ]
    },
    {
      "cell_type": "code",
      "metadata": {
        "colab": {
          "base_uri": "https://localhost:8080/"
        },
        "id": "AlebdcidT39v",
        "outputId": "3a0cbeb2-30a3-41c9-b943-e44bb1caa3d3"
      },
      "source": [
        "#중복데이터처리\n",
        "import pandas as pd\n",
        "dataSet= pd.DataFrame({'c1':['a','a','b','a','b'],\n",
        "                       'c2':[1,1,1,2,1],\n",
        "                       'c3':[1,1,2,2,2]})\n",
        "dataSet_dup = dataSet.duplicated()\n",
        "print(dataSet_dup)"
      ],
      "execution_count": 9,
      "outputs": [
        {
          "output_type": "stream",
          "text": [
            "0    False\n",
            "1     True\n",
            "2    False\n",
            "3    False\n",
            "4     True\n",
            "dtype: bool\n"
          ],
          "name": "stdout"
        }
      ]
    },
    {
      "cell_type": "code",
      "metadata": {
        "colab": {
          "base_uri": "https://localhost:8080/"
        },
        "id": "FNaFT6b2UjGf",
        "outputId": "7b5daf35-31d9-4349-d44b-f7effa7cc297"
      },
      "source": [
        "c3_dup = dataSet['c3'].duplicated()\n",
        "print(c3_dup)"
      ],
      "execution_count": 10,
      "outputs": [
        {
          "output_type": "stream",
          "text": [
            "0    False\n",
            "1     True\n",
            "2    False\n",
            "3     True\n",
            "4     True\n",
            "Name: c3, dtype: bool\n"
          ],
          "name": "stdout"
        }
      ]
    },
    {
      "cell_type": "code",
      "metadata": {
        "colab": {
          "base_uri": "https://localhost:8080/"
        },
        "id": "cYmakhEjUoi4",
        "outputId": "28ef0d0f-aabc-425b-bc70-627a75074e52"
      },
      "source": [
        "#제거\n",
        "dataSet2=dataSet.drop_duplicates()\n",
        "print(dataSet2)\n",
        "\n",
        "dataSet_sub = dataSet.drop_duplicates(subset=['c2','c3'])\n",
        "print(dataSet_sub)"
      ],
      "execution_count": 12,
      "outputs": [
        {
          "output_type": "stream",
          "text": [
            "  c1  c2  c3\n",
            "0  a   1   1\n",
            "2  b   1   2\n",
            "3  a   2   2\n",
            "  c1  c2  c3\n",
            "0  a   1   1\n",
            "2  b   1   2\n",
            "3  a   2   2\n"
          ],
          "name": "stdout"
        }
      ]
    }
  ]
}