{
  "nbformat": 4,
  "nbformat_minor": 0,
  "metadata": {
    "colab": {
      "name": "Colab_실습_자료.ipynb",
      "private_outputs": true,
      "provenance": [],
      "collapsed_sections": [],
      "toc_visible": true,
      "include_colab_link": true
    },
    "kernelspec": {
      "name": "python3",
      "display_name": "Python 3"
    },
    "accelerator": "GPU"
  },
  "cells": [
    {
      "cell_type": "markdown",
      "metadata": {
        "id": "view-in-github",
        "colab_type": "text"
      },
      "source": [
        "<a href=\"https://colab.research.google.com/github/juri123123/DALC_Scala/blob/main/Colab_%EC%8B%A4%EC%8A%B5_%EC%9E%90%EB%A3%8C.ipynb\" target=\"_parent\"><img src=\"https://colab.research.google.com/assets/colab-badge.svg\" alt=\"Open In Colab\"/></a>"
      ]
    },
    {
      "cell_type": "markdown",
      "metadata": {
        "id": "EWndrTzeEvmT"
      },
      "source": [
        "# Colab 실습 하기\r\n",
        "# 1.마크다운으로 내 깃허브 링크 삽입하기\r\n",
        "https://github.com/juri123123/DALC_Scala"
      ]
    },
    {
      "cell_type": "code",
      "metadata": {
        "id": "J24Sn4zxBNLQ"
      },
      "source": [
        ""
      ],
      "execution_count": null,
      "outputs": []
    },
    {
      "cell_type": "markdown",
      "metadata": {
        "id": "0WCvBwn1r0r1"
      },
      "source": [
        "# 2.마크다운으로 이미지 삽입하기\r\n"
      ]
    },
    {
      "cell_type": "code",
      "metadata": {
        "id": "kqYajkR_BM7F"
      },
      "source": [
        ""
      ],
      "execution_count": null,
      "outputs": []
    },
    {
      "cell_type": "code",
      "metadata": {
        "id": "ivEw7YFet3zA"
      },
      "source": [
        "![](https://search.pstatic.net/sunny/?src=https%3A%2F%2Fi.pinimg.com%2Foriginals%2Fde%2Fb0%2Ff3%2Fdeb0f35934ada97889a11dea313fc819.jpg&type=sc960_832)"
      ],
      "execution_count": null,
      "outputs": []
    },
    {
      "cell_type": "markdown",
      "metadata": {
        "id": "rtnleslqFhT8"
      },
      "source": [
        "## 3. To do List\r\n",
        "- 개발환경 설치 완료하기\r\n",
        "- 강의 미루지 말고 다 듣기\r\n"
      ]
    },
    {
      "cell_type": "code",
      "metadata": {
        "id": "QuWOpjVksbAx"
      },
      "source": [
        "1.\r\n"
      ],
      "execution_count": null,
      "outputs": []
    }
  ]
}