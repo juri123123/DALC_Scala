{
  "nbformat": 4,
  "nbformat_minor": 0,
  "metadata": {
    "colab": {
      "name": "DALC_scalar6__pandas_심화_실습.ipynb",
      "provenance": [],
      "collapsed_sections": [],
      "toc_visible": true,
      "include_colab_link": true
    },
    "kernelspec": {
      "name": "python3",
      "display_name": "Python 3"
    },
    "language_info": {
      "name": "python"
    }
  },
  "cells": [
    {
      "cell_type": "markdown",
      "metadata": {
        "id": "view-in-github",
        "colab_type": "text"
      },
      "source": [
        "<a href=\"https://colab.research.google.com/github/juri123123/DALC_Scala/blob/main/DALC_scalar6__pandas_%EC%8B%AC%ED%99%94_%EC%8B%A4%EC%8A%B5.ipynb\" target=\"_parent\"><img src=\"https://colab.research.google.com/assets/colab-badge.svg\" alt=\"Open In Colab\"/></a>"
      ]
    },
    {
      "cell_type": "markdown",
      "metadata": {
        "id": "hUQY0a9AmQB1"
      },
      "source": [
        "# 주관식\n",
        "셀을 더블클릭해서  : 다음에 답을 입력하세요."
      ]
    },
    {
      "cell_type": "markdown",
      "metadata": {
        "id": "s0tu8WgkHe9n"
      },
      "source": [
        "* 데이터프레임 file의 클래스유형:(답은 여기에 작성)\n",
        "* 측정일시의 자료형:\n",
        "* 전체 데이터프레임의 자료형은 어떻게 구성되어있나(정수형?개,실수형?개,문자형?개):\n",
        "* 메모리 사용량:"
      ]
    },
    {
      "cell_type": "markdown",
      "metadata": {
        "id": "6nQsARbhNrvK"
      },
      "source": [
        "* value_counts()코드작성 결과 왼쪽숫자와 오른쪽숫자는 무엇을 의미하는가 :"
      ]
    },
    {
      "cell_type": "markdown",
      "metadata": {
        "id": "O7Cz3tPHMFq8"
      },
      "source": [
        "* min,max,std 같은 통계함수 반환결과는 어떤객체로 반환되는가?:"
      ]
    },
    {
      "cell_type": "markdown",
      "metadata": {
        "id": "978ZPud4PDUu"
      },
      "source": [
        "* 그래프를 만들기 위해 pandas내장 그래프인 plot()내장함수를 사용할때 , 히스토그램 그래프를 만들기 위한 kind값은:"
      ]
    },
    {
      "cell_type": "markdown",
      "metadata": {
        "id": "3aFRHKwiSiGB"
      },
      "source": [
        "* 데이터레코드는 무엇은 뜻하는가:\n",
        "* 중복된 데이터셋이 존재할 경우 분석결과에 어떤 영향이있나:"
      ]
    },
    {
      "cell_type": "markdown",
      "metadata": {
        "id": "8gOX_CVzSiPN"
      },
      "source": [
        "* 중복된 데이터셋이 있을경우 true로 반환되는가 false로 반환되는가?"
      ]
    },
    {
      "cell_type": "markdown",
      "metadata": {
        "id": "LEpgg6MllqlP"
      },
      "source": [
        "# Pandas 심화실습\n",
        "* 파일읽기와 쓰기\n",
        "* 데이터프레임 구조\n",
        "* 통계 함수 \n",
        "\n",
        "해당 질문 밑에 있는 코드셀에 코드를 입력하세요"
      ]
    },
    {
      "cell_type": "markdown",
      "metadata": {
        "id": "ZPLYsr50N48B"
      },
      "source": [
        "# csv파일"
      ]
    },
    {
      "cell_type": "markdown",
      "metadata": {
        "id": "H0vQPFbZD9nu"
      },
      "source": [
        "* 판다스,넘파이 임포트하기"
      ]
    },
    {
      "cell_type": "code",
      "metadata": {
        "id": "8NHb_3yTGXk8"
      },
      "source": [
        "import pandas as pd\n",
        "import numpy as np"
      ],
      "execution_count": 1,
      "outputs": []
    },
    {
      "cell_type": "code",
      "metadata": {
        "id": "BsoUCCWXxOem",
        "colab": {
          "base_uri": "https://localhost:8080/"
        },
        "outputId": "17693493-a2cd-437d-bb55-6c4fb9bbf63f"
      },
      "source": [
        "from google.colab import drive\n",
        "drive.mount('/content/drive')"
      ],
      "execution_count": 2,
      "outputs": [
        {
          "output_type": "stream",
          "text": [
            "Drive already mounted at /content/drive; to attempt to forcibly remount, call drive.mount(\"/content/drive\", force_remount=True).\n"
          ],
          "name": "stdout"
        }
      ]
    },
    {
      "cell_type": "markdown",
      "metadata": {
        "id": "p_5uwi8CHNKW"
      },
      "source": [
        "* (성북구)서울생활인구 일별 집계표를 read_csv()함수로 file변수에 저장해라"
      ]
    },
    {
      "cell_type": "code",
      "metadata": {
        "id": "7gRJmswLmrzq",
        "colab": {
          "base_uri": "https://localhost:8080/",
          "height": 796
        },
        "outputId": "d8fb524f-0bf2-410d-fccf-f8969ba25890"
      },
      "source": [
        "file=pd.read_csv('/content/drive/MyDrive/(성북구) 서울생활인구 일별 집계표.csv',header=None,encoding='euc-kr')\n",
        "file"
      ],
      "execution_count": 3,
      "outputs": [
        {
          "output_type": "execute_result",
          "data": {
            "text/html": [
              "<div>\n",
              "<style scoped>\n",
              "    .dataframe tbody tr th:only-of-type {\n",
              "        vertical-align: middle;\n",
              "    }\n",
              "\n",
              "    .dataframe tbody tr th {\n",
              "        vertical-align: top;\n",
              "    }\n",
              "\n",
              "    .dataframe thead th {\n",
              "        text-align: right;\n",
              "    }\n",
              "</style>\n",
              "<table border=\"1\" class=\"dataframe\">\n",
              "  <thead>\n",
              "    <tr style=\"text-align: right;\">\n",
              "      <th></th>\n",
              "      <th>0</th>\n",
              "      <th>1</th>\n",
              "      <th>2</th>\n",
              "      <th>3</th>\n",
              "      <th>4</th>\n",
              "      <th>5</th>\n",
              "      <th>6</th>\n",
              "      <th>7</th>\n",
              "      <th>8</th>\n",
              "      <th>9</th>\n",
              "      <th>10</th>\n",
              "      <th>11</th>\n",
              "      <th>12</th>\n",
              "      <th>13</th>\n",
              "      <th>14</th>\n",
              "    </tr>\n",
              "  </thead>\n",
              "  <tbody>\n",
              "    <tr>\n",
              "      <th>0</th>\n",
              "      <td>기준일ID</td>\n",
              "      <td>시군구코드</td>\n",
              "      <td>시군구명</td>\n",
              "      <td>총생활인구수</td>\n",
              "      <td>내국인생활인구수</td>\n",
              "      <td>장기체류외국인인구수</td>\n",
              "      <td>단기체류외국인인구수</td>\n",
              "      <td>일최대인구수</td>\n",
              "      <td>일최소인구수</td>\n",
              "      <td>주간인구수(09~18)</td>\n",
              "      <td>야간인구수(19~08)</td>\n",
              "      <td>일최대이동인구수</td>\n",
              "      <td>서울외유입인구수</td>\n",
              "      <td>동일자치구행정동간이동인구수</td>\n",
              "      <td>자치구간이동인구수</td>\n",
              "    </tr>\n",
              "    <tr>\n",
              "      <th>1</th>\n",
              "      <td>20210425</td>\n",
              "      <td>11290</td>\n",
              "      <td>성북구</td>\n",
              "      <td>443639.45680</td>\n",
              "      <td>426291.84200</td>\n",
              "      <td>14728.45920</td>\n",
              "      <td>2619.15560</td>\n",
              "      <td>465470.80920</td>\n",
              "      <td>416126.41780</td>\n",
              "      <td>427753.49210</td>\n",
              "      <td>454986.57450</td>\n",
              "      <td>168361.07380</td>\n",
              "      <td>20646.80240</td>\n",
              "      <td>91937.32060</td>\n",
              "      <td>55776.95080</td>\n",
              "    </tr>\n",
              "    <tr>\n",
              "      <th>2</th>\n",
              "      <td>20210424</td>\n",
              "      <td>11290</td>\n",
              "      <td>성북구</td>\n",
              "      <td>437840.32410</td>\n",
              "      <td>421201.82570</td>\n",
              "      <td>14711.10870</td>\n",
              "      <td>1927.38980</td>\n",
              "      <td>459598.45900</td>\n",
              "      <td>408104.13620</td>\n",
              "      <td>418491.12470</td>\n",
              "      <td>451661.18080</td>\n",
              "      <td>173192.06950</td>\n",
              "      <td>22332.52960</td>\n",
              "      <td>88407.36780</td>\n",
              "      <td>62452.17210</td>\n",
              "    </tr>\n",
              "    <tr>\n",
              "      <th>3</th>\n",
              "      <td>20210423</td>\n",
              "      <td>11290</td>\n",
              "      <td>성북구</td>\n",
              "      <td>435185.36780</td>\n",
              "      <td>418784.71860</td>\n",
              "      <td>14991.80530</td>\n",
              "      <td>1408.84390</td>\n",
              "      <td>465491.92740</td>\n",
              "      <td>400532.96140</td>\n",
              "      <td>408959.39910</td>\n",
              "      <td>453918.20260</td>\n",
              "      <td>192984.50380</td>\n",
              "      <td>22768.37600</td>\n",
              "      <td>93289.93880</td>\n",
              "      <td>76926.18900</td>\n",
              "    </tr>\n",
              "    <tr>\n",
              "      <th>4</th>\n",
              "      <td>20210422</td>\n",
              "      <td>11290</td>\n",
              "      <td>성북구</td>\n",
              "      <td>438600.35210</td>\n",
              "      <td>421482.46410</td>\n",
              "      <td>15150.64420</td>\n",
              "      <td>1967.24380</td>\n",
              "      <td>467918.04400</td>\n",
              "      <td>404219.35790</td>\n",
              "      <td>411963.45150</td>\n",
              "      <td>457626.70970</td>\n",
              "      <td>197478.01740</td>\n",
              "      <td>23795.99210</td>\n",
              "      <td>94515.73460</td>\n",
              "      <td>79166.29070</td>\n",
              "    </tr>\n",
              "    <tr>\n",
              "      <th>...</th>\n",
              "      <td>...</td>\n",
              "      <td>...</td>\n",
              "      <td>...</td>\n",
              "      <td>...</td>\n",
              "      <td>...</td>\n",
              "      <td>...</td>\n",
              "      <td>...</td>\n",
              "      <td>...</td>\n",
              "      <td>...</td>\n",
              "      <td>...</td>\n",
              "      <td>...</td>\n",
              "      <td>...</td>\n",
              "      <td>...</td>\n",
              "      <td>...</td>\n",
              "      <td>...</td>\n",
              "    </tr>\n",
              "    <tr>\n",
              "      <th>1098</th>\n",
              "      <td>20180409</td>\n",
              "      <td>11290</td>\n",
              "      <td>성북구</td>\n",
              "      <td>476114.24590</td>\n",
              "      <td>454886.10310</td>\n",
              "      <td>18788.06680</td>\n",
              "      <td>2440.07600</td>\n",
              "      <td>504092.62350</td>\n",
              "      <td>450264.16860</td>\n",
              "      <td>453415.34120</td>\n",
              "      <td>492327.74920</td>\n",
              "      <td>240497.63390</td>\n",
              "      <td>30769.73320</td>\n",
              "      <td>103022.83580</td>\n",
              "      <td>106705.06490</td>\n",
              "    </tr>\n",
              "    <tr>\n",
              "      <th>1099</th>\n",
              "      <td>20180408</td>\n",
              "      <td>11290</td>\n",
              "      <td>성북구</td>\n",
              "      <td>477840.49290</td>\n",
              "      <td>456999.13760</td>\n",
              "      <td>18226.85170</td>\n",
              "      <td>2614.50360</td>\n",
              "      <td>498844.12240</td>\n",
              "      <td>450066.63510</td>\n",
              "      <td>461373.95650</td>\n",
              "      <td>489602.30450</td>\n",
              "      <td>193289.26080</td>\n",
              "      <td>24703.28610</td>\n",
              "      <td>98189.04260</td>\n",
              "      <td>70396.93210</td>\n",
              "    </tr>\n",
              "    <tr>\n",
              "      <th>1100</th>\n",
              "      <td>20180407</td>\n",
              "      <td>11290</td>\n",
              "      <td>성북구</td>\n",
              "      <td>466144.52940</td>\n",
              "      <td>445674.45040</td>\n",
              "      <td>17855.15440</td>\n",
              "      <td>2614.92470</td>\n",
              "      <td>497224.81540</td>\n",
              "      <td>432109.66880</td>\n",
              "      <td>442971.58690</td>\n",
              "      <td>482696.63120</td>\n",
              "      <td>196216.04810</td>\n",
              "      <td>26331.93420</td>\n",
              "      <td>95319.36890</td>\n",
              "      <td>74564.74500</td>\n",
              "    </tr>\n",
              "    <tr>\n",
              "      <th>1101</th>\n",
              "      <td>20180406</td>\n",
              "      <td>11290</td>\n",
              "      <td>성북구</td>\n",
              "      <td>469243.02000</td>\n",
              "      <td>448371.16010</td>\n",
              "      <td>18446.62860</td>\n",
              "      <td>2425.23130</td>\n",
              "      <td>504288.05870</td>\n",
              "      <td>438023.86400</td>\n",
              "      <td>444779.46070</td>\n",
              "      <td>486716.99090</td>\n",
              "      <td>226138.30080</td>\n",
              "      <td>27578.37090</td>\n",
              "      <td>99137.54820</td>\n",
              "      <td>99422.38170</td>\n",
              "    </tr>\n",
              "    <tr>\n",
              "      <th>1102</th>\n",
              "      <td>20180405</td>\n",
              "      <td>11290</td>\n",
              "      <td>성북구</td>\n",
              "      <td>477444.98960</td>\n",
              "      <td>456751.59140</td>\n",
              "      <td>18606.79950</td>\n",
              "      <td>2086.59870</td>\n",
              "      <td>504658.32840</td>\n",
              "      <td>452980.94670</td>\n",
              "      <td>457112.66350</td>\n",
              "      <td>491968.07960</td>\n",
              "      <td>235078.93160</td>\n",
              "      <td>29719.85340</td>\n",
              "      <td>101150.79300</td>\n",
              "      <td>104208.28520</td>\n",
              "    </tr>\n",
              "  </tbody>\n",
              "</table>\n",
              "<p>1103 rows × 15 columns</p>\n",
              "</div>"
            ],
            "text/plain": [
              "            0      1     2   ...           12              13            14\n",
              "0        기준일ID  시군구코드  시군구명  ...     서울외유입인구수  동일자치구행정동간이동인구수     자치구간이동인구수\n",
              "1     20210425  11290   성북구  ...  20646.80240     91937.32060   55776.95080\n",
              "2     20210424  11290   성북구  ...  22332.52960     88407.36780   62452.17210\n",
              "3     20210423  11290   성북구  ...  22768.37600     93289.93880   76926.18900\n",
              "4     20210422  11290   성북구  ...  23795.99210     94515.73460   79166.29070\n",
              "...        ...    ...   ...  ...          ...             ...           ...\n",
              "1098  20180409  11290   성북구  ...  30769.73320    103022.83580  106705.06490\n",
              "1099  20180408  11290   성북구  ...  24703.28610     98189.04260   70396.93210\n",
              "1100  20180407  11290   성북구  ...  26331.93420     95319.36890   74564.74500\n",
              "1101  20180406  11290   성북구  ...  27578.37090     99137.54820   99422.38170\n",
              "1102  20180405  11290   성북구  ...  29719.85340    101150.79300  104208.28520\n",
              "\n",
              "[1103 rows x 15 columns]"
            ]
          },
          "metadata": {
            "tags": []
          },
          "execution_count": 3
        }
      ]
    },
    {
      "cell_type": "code",
      "metadata": {
        "id": "82EpgM1oxUh1"
      },
      "source": [
        "file=file.drop([2],axis=1)\n",
        "file=file.drop([0],axis=0)\n",
        "file.columns=['기준일ID', '시군구코드', '총생활인구수', '내국인생활인구수', '장기체류외국인인구수', '단기체류외국인인구수', '일최대인구수', '일최소인구수', '주간인구수', '야간인구수', '일최대이동인구수', '서울외유입인구수', '동일자치구행정동간이동인구수', '자치구간이동인구수']"
      ],
      "execution_count": 4,
      "outputs": []
    },
    {
      "cell_type": "markdown",
      "metadata": {
        "id": "to4X9BmGHcVn"
      },
      "source": [
        "* 데이터프레임 file의 앞에 5줄 데이터 조회"
      ]
    },
    {
      "cell_type": "code",
      "metadata": {
        "id": "vHp-kJ5vmr-u",
        "colab": {
          "base_uri": "https://localhost:8080/"
        },
        "outputId": "805f933b-684c-4a12-bfec-3e9d682495a9"
      },
      "source": [
        "print(file.head(5))"
      ],
      "execution_count": 5,
      "outputs": [
        {
          "output_type": "stream",
          "text": [
            "      기준일ID  시군구코드        총생활인구수  ...     서울외유입인구수 동일자치구행정동간이동인구수    자치구간이동인구수\n",
            "1  20210425  11290  443639.45680  ...  20646.80240    91937.32060  55776.95080\n",
            "2  20210424  11290  437840.32410  ...  22332.52960    88407.36780  62452.17210\n",
            "3  20210423  11290  435185.36780  ...  22768.37600    93289.93880  76926.18900\n",
            "4  20210422  11290  438600.35210  ...  23795.99210    94515.73460  79166.29070\n",
            "5  20210421  11290  439620.82590  ...  24139.00400    95286.48550  80989.71480\n",
            "\n",
            "[5 rows x 14 columns]\n"
          ],
          "name": "stdout"
        }
      ]
    },
    {
      "cell_type": "markdown",
      "metadata": {
        "id": "mt_eg4AlI-2s"
      },
      "source": [
        "* 데이터프레임 file의 뒤에 5줄 데이터 조회"
      ]
    },
    {
      "cell_type": "code",
      "metadata": {
        "id": "3wcQvP_EI3Yc",
        "colab": {
          "base_uri": "https://localhost:8080/"
        },
        "outputId": "1b6d5a24-a743-4e93-b55e-1d6d63494c0f"
      },
      "source": [
        "print(file.tail(5))"
      ],
      "execution_count": 6,
      "outputs": [
        {
          "output_type": "stream",
          "text": [
            "         기준일ID  시군구코드        총생활인구수  ...     서울외유입인구수 동일자치구행정동간이동인구수     자치구간이동인구수\n",
            "1098  20180409  11290  476114.24590  ...  30769.73320   103022.83580  106705.06490\n",
            "1099  20180408  11290  477840.49290  ...  24703.28610    98189.04260   70396.93210\n",
            "1100  20180407  11290  466144.52940  ...  26331.93420    95319.36890   74564.74500\n",
            "1101  20180406  11290  469243.02000  ...  27578.37090    99137.54820   99422.38170\n",
            "1102  20180405  11290  477444.98960  ...  29719.85340   101150.79300  104208.28520\n",
            "\n",
            "[5 rows x 14 columns]\n"
          ],
          "name": "stdout"
        }
      ]
    },
    {
      "cell_type": "markdown",
      "metadata": {
        "id": "_qM7c0PCJsVB"
      },
      "source": [
        "* 데이터프레임 file의 앞에 10줄 데이터 조회"
      ]
    },
    {
      "cell_type": "code",
      "metadata": {
        "id": "Y6IqwzzbpA7K",
        "colab": {
          "base_uri": "https://localhost:8080/"
        },
        "outputId": "65ddbbbc-a5fa-47cd-8a96-758abe67cc37"
      },
      "source": [
        "print(file.head(10))"
      ],
      "execution_count": 7,
      "outputs": [
        {
          "output_type": "stream",
          "text": [
            "       기준일ID  시군구코드        총생활인구수  ...     서울외유입인구수 동일자치구행정동간이동인구수    자치구간이동인구수\n",
            "1   20210425  11290  443639.45680  ...  20646.80240    91937.32060  55776.95080\n",
            "2   20210424  11290  437840.32410  ...  22332.52960    88407.36780  62452.17210\n",
            "3   20210423  11290  435185.36780  ...  22768.37600    93289.93880  76926.18900\n",
            "4   20210422  11290  438600.35210  ...  23795.99210    94515.73460  79166.29070\n",
            "5   20210421  11290  439620.82590  ...  24139.00400    95286.48550  80989.71480\n",
            "6   20210420  11290  439129.50660  ...  23696.82220    95415.24410  80379.40850\n",
            "7   20210419  11290  439863.02470  ...  22334.97850    96001.37290  77991.72340\n",
            "8   20210418  11290  446964.27350  ...  19958.70620    92165.15530  57251.63430\n",
            "9   20210417  11290  443367.24500  ...  21767.26460    89067.68400  61809.37910\n",
            "10  20210416  11290  438868.27820  ...  21812.91260    93713.39440  76463.14590\n",
            "\n",
            "[10 rows x 14 columns]\n"
          ],
          "name": "stdout"
        }
      ]
    },
    {
      "cell_type": "markdown",
      "metadata": {
        "id": "_ElIsIPELSIS"
      },
      "source": [
        "#  데이터 요약정보 확인하기"
      ]
    },
    {
      "cell_type": "markdown",
      "metadata": {
        "id": "zXi9JehJLzzC"
      },
      "source": [
        "* 데이터프레임 모양과 크기 확인"
      ]
    },
    {
      "cell_type": "code",
      "metadata": {
        "id": "SDiypRdGpA1r",
        "colab": {
          "base_uri": "https://localhost:8080/"
        },
        "outputId": "e84157a6-9abe-443d-fc02-5362c0259dc1"
      },
      "source": [
        "print(file.shape)"
      ],
      "execution_count": 8,
      "outputs": [
        {
          "output_type": "stream",
          "text": [
            "(1102, 14)\n"
          ],
          "name": "stdout"
        }
      ]
    },
    {
      "cell_type": "markdown",
      "metadata": {
        "id": "veju4mmRMgmx"
      },
      "source": [
        "* 데이터프레임 기본정보 조회"
      ]
    },
    {
      "cell_type": "code",
      "metadata": {
        "id": "zoC3coUxpApz",
        "colab": {
          "base_uri": "https://localhost:8080/"
        },
        "outputId": "df22d3d2-d5cd-457c-a064-33af8abf3042"
      },
      "source": [
        "print(file.info())"
      ],
      "execution_count": 9,
      "outputs": [
        {
          "output_type": "stream",
          "text": [
            "<class 'pandas.core.frame.DataFrame'>\n",
            "Int64Index: 1102 entries, 1 to 1102\n",
            "Data columns (total 14 columns):\n",
            " #   Column          Non-Null Count  Dtype \n",
            "---  ------          --------------  ----- \n",
            " 0   기준일ID           1102 non-null   object\n",
            " 1   시군구코드           1102 non-null   object\n",
            " 2   총생활인구수          1102 non-null   object\n",
            " 3   내국인생활인구수        1102 non-null   object\n",
            " 4   장기체류외국인인구수      1102 non-null   object\n",
            " 5   단기체류외국인인구수      1102 non-null   object\n",
            " 6   일최대인구수          1102 non-null   object\n",
            " 7   일최소인구수          1102 non-null   object\n",
            " 8   주간인구수           1102 non-null   object\n",
            " 9   야간인구수           1102 non-null   object\n",
            " 10  일최대이동인구수        1102 non-null   object\n",
            " 11  서울외유입인구수        1102 non-null   object\n",
            " 12  동일자치구행정동간이동인구수  1102 non-null   object\n",
            " 13  자치구간이동인구수       1102 non-null   object\n",
            "dtypes: object(14)\n",
            "memory usage: 129.1+ KB\n",
            "None\n"
          ],
          "name": "stdout"
        }
      ]
    },
    {
      "cell_type": "markdown",
      "metadata": {
        "id": "KW7fLJ8eMjKZ"
      },
      "source": [
        "* 데이터프레임의 각열의 자료형 확인"
      ]
    },
    {
      "cell_type": "code",
      "metadata": {
        "id": "l3h-3oZumPnM",
        "colab": {
          "base_uri": "https://localhost:8080/"
        },
        "outputId": "aa8e1c64-e0c6-4fa1-afde-5b3ba1c5dd38"
      },
      "source": [
        "print(file.dtypes)"
      ],
      "execution_count": 10,
      "outputs": [
        {
          "output_type": "stream",
          "text": [
            "기준일ID             object\n",
            "시군구코드             object\n",
            "총생활인구수            object\n",
            "내국인생활인구수          object\n",
            "장기체류외국인인구수        object\n",
            "단기체류외국인인구수        object\n",
            "일최대인구수            object\n",
            "일최소인구수            object\n",
            "주간인구수             object\n",
            "야간인구수             object\n",
            "일최대이동인구수          object\n",
            "서울외유입인구수          object\n",
            "동일자치구행정동간이동인구수    object\n",
            "자치구간이동인구수         object\n",
            "dtype: object\n"
          ],
          "name": "stdout"
        }
      ]
    },
    {
      "cell_type": "markdown",
      "metadata": {
        "id": "U56XiDtTMpCq"
      },
      "source": [
        "* '일최대이동인구수' 열에 대해 dtypes속성 적용"
      ]
    },
    {
      "cell_type": "code",
      "metadata": {
        "id": "julPwkbal-5w",
        "colab": {
          "base_uri": "https://localhost:8080/"
        },
        "outputId": "4c33be53-66f8-49fe-af93-9c29510c6ba8"
      },
      "source": [
        "print(file.일최대이동인구수.dtypes)"
      ],
      "execution_count": 11,
      "outputs": [
        {
          "output_type": "stream",
          "text": [
            "object\n"
          ],
          "name": "stdout"
        }
      ]
    },
    {
      "cell_type": "markdown",
      "metadata": {
        "id": "0Xcrr7uTNfdh"
      },
      "source": [
        "* 데이터프레임의 기술통계정보를 보여라"
      ]
    },
    {
      "cell_type": "code",
      "metadata": {
        "id": "2LSCJyXBrVKX",
        "colab": {
          "base_uri": "https://localhost:8080/"
        },
        "outputId": "e0a657c5-1a5b-461d-d34a-80cfd055df17"
      },
      "source": [
        "print(file.describe())"
      ],
      "execution_count": 12,
      "outputs": [
        {
          "output_type": "stream",
          "text": [
            "           기준일ID  시군구코드        총생활인구수  ...     서울외유입인구수 동일자치구행정동간이동인구수    자치구간이동인구수\n",
            "count       1102   1102          1102  ...         1102           1102         1102\n",
            "unique      1102      1          1102  ...         1102           1102         1102\n",
            "top     20200728  11290  449996.14360  ...  23673.25400    95319.36890  60123.61010\n",
            "freq           1   1102             1  ...            1              1            1\n",
            "\n",
            "[4 rows x 14 columns]\n"
          ],
          "name": "stdout"
        }
      ]
    },
    {
      "cell_type": "markdown",
      "metadata": {
        "id": "QL8TwDRqNk7Z"
      },
      "source": [
        "* 각 열의 데이터 개수 확인하는 코드 작성"
      ]
    },
    {
      "cell_type": "code",
      "metadata": {
        "id": "GxLGQaRIrqHo",
        "colab": {
          "base_uri": "https://localhost:8080/"
        },
        "outputId": "946bbb1e-50b5-4bce-82ac-275c6c89b4b8"
      },
      "source": [
        "print(file.count())"
      ],
      "execution_count": 13,
      "outputs": [
        {
          "output_type": "stream",
          "text": [
            "기준일ID             1102\n",
            "시군구코드             1102\n",
            "총생활인구수            1102\n",
            "내국인생활인구수          1102\n",
            "장기체류외국인인구수        1102\n",
            "단기체류외국인인구수        1102\n",
            "일최대인구수            1102\n",
            "일최소인구수            1102\n",
            "주간인구수             1102\n",
            "야간인구수             1102\n",
            "일최대이동인구수          1102\n",
            "서울외유입인구수          1102\n",
            "동일자치구행정동간이동인구수    1102\n",
            "자치구간이동인구수         1102\n",
            "dtype: int64\n"
          ],
          "name": "stdout"
        }
      ]
    },
    {
      "cell_type": "markdown",
      "metadata": {
        "id": "8Qem1xthNpEp"
      },
      "source": [
        "* '일최대이동인구수'열의 고유값 개수 확인하는 코드 작성"
      ]
    },
    {
      "cell_type": "code",
      "metadata": {
        "id": "k9ZoiKLfrptY",
        "colab": {
          "base_uri": "https://localhost:8080/"
        },
        "outputId": "c08016d1-e23c-4a9e-d587-6804bd5b5ad5"
      },
      "source": [
        "print(file.일최대이동인구수.count())"
      ],
      "execution_count": 14,
      "outputs": [
        {
          "output_type": "stream",
          "text": [
            "1102\n"
          ],
          "name": "stdout"
        }
      ]
    },
    {
      "cell_type": "markdown",
      "metadata": {
        "id": "xharyGBsOEqC"
      },
      "source": [
        "# 통계함수"
      ]
    },
    {
      "cell_type": "markdown",
      "metadata": {
        "id": "uzHCk1PuPF8K"
      },
      "source": [
        "* file데이터프레임의 평균값 계산해라"
      ]
    },
    {
      "cell_type": "code",
      "metadata": {
        "id": "ewQeK3lXtTUH",
        "colab": {
          "base_uri": "https://localhost:8080/"
        },
        "outputId": "66e8c184-5417-464e-8e19-5ece3bc8b7b9"
      },
      "source": [
        "file.mean()"
      ],
      "execution_count": 15,
      "outputs": [
        {
          "output_type": "execute_result",
          "data": {
            "text/plain": [
              "Series([], dtype: float64)"
            ]
          },
          "metadata": {
            "tags": []
          },
          "execution_count": 15
        }
      ]
    },
    {
      "cell_type": "code",
      "metadata": {
        "colab": {
          "base_uri": "https://localhost:8080/"
        },
        "id": "ULpTh9-V6uhy",
        "outputId": "b755bd3b-dabe-413e-a84d-7f7e7f091370"
      },
      "source": [
        "!sudo apt-get install -y fonts-nanum\n",
        "!sudo fc-cache -fv\n",
        "!rm ~/.cache/matplotlib -rf"
      ],
      "execution_count": 16,
      "outputs": [
        {
          "output_type": "stream",
          "text": [
            "Reading package lists... Done\n",
            "Building dependency tree       \n",
            "Reading state information... Done\n",
            "fonts-nanum is already the newest version (20170925-1).\n",
            "The following package was automatically installed and is no longer required:\n",
            "  libnvidia-common-460\n",
            "Use 'sudo apt autoremove' to remove it.\n",
            "0 upgraded, 0 newly installed, 0 to remove and 34 not upgraded.\n",
            "/usr/share/fonts: caching, new cache contents: 0 fonts, 1 dirs\n",
            "/usr/share/fonts/truetype: caching, new cache contents: 0 fonts, 3 dirs\n",
            "/usr/share/fonts/truetype/humor-sans: caching, new cache contents: 1 fonts, 0 dirs\n",
            "/usr/share/fonts/truetype/liberation: caching, new cache contents: 16 fonts, 0 dirs\n",
            "/usr/share/fonts/truetype/nanum: caching, new cache contents: 10 fonts, 0 dirs\n",
            "/usr/local/share/fonts: caching, new cache contents: 0 fonts, 0 dirs\n",
            "/root/.local/share/fonts: skipping, no such directory\n",
            "/root/.fonts: skipping, no such directory\n",
            "/var/cache/fontconfig: cleaning cache directory\n",
            "/root/.cache/fontconfig: not cleaning non-existent cache directory\n",
            "/root/.fontconfig: not cleaning non-existent cache directory\n",
            "fc-cache: succeeded\n"
          ],
          "name": "stdout"
        }
      ]
    },
    {
      "cell_type": "code",
      "metadata": {
        "id": "CTB8pPE96zww"
      },
      "source": [
        "import matplotlib.pyplot as plt\n",
        "\n",
        "plt.rc('font', family='NanumBarunGothic')"
      ],
      "execution_count": 17,
      "outputs": []
    },
    {
      "cell_type": "markdown",
      "metadata": {
        "id": "R6gWiLgERaqi"
      },
      "source": [
        "* '일최대이동인구수'열의 평균을 계산해라"
      ]
    },
    {
      "cell_type": "code",
      "metadata": {
        "id": "EIUdDehpmrhn",
        "colab": {
          "base_uri": "https://localhost:8080/",
          "height": 701
        },
        "outputId": "d462addd-7dc2-4f4d-f599-28ad8b60bce7"
      },
      "source": [
        "file['일최대이동인구수'].mean()"
      ],
      "execution_count": 18,
      "outputs": [
        {
          "output_type": "error",
          "ename": "TypeError",
          "evalue": "ignored",
          "traceback": [
            "\u001b[0;31m---------------------------------------------------------------------------\u001b[0m",
            "\u001b[0;31mValueError\u001b[0m                                Traceback (most recent call last)",
            "\u001b[0;32m/usr/local/lib/python3.7/dist-packages/pandas/core/nanops.py\u001b[0m in \u001b[0;36m_ensure_numeric\u001b[0;34m(x)\u001b[0m\n\u001b[1;32m   1426\u001b[0m         \u001b[0;32mtry\u001b[0m\u001b[0;34m:\u001b[0m\u001b[0;34m\u001b[0m\u001b[0;34m\u001b[0m\u001b[0m\n\u001b[0;32m-> 1427\u001b[0;31m             \u001b[0mx\u001b[0m \u001b[0;34m=\u001b[0m \u001b[0mfloat\u001b[0m\u001b[0;34m(\u001b[0m\u001b[0mx\u001b[0m\u001b[0;34m)\u001b[0m\u001b[0;34m\u001b[0m\u001b[0;34m\u001b[0m\u001b[0m\n\u001b[0m\u001b[1;32m   1428\u001b[0m         \u001b[0;32mexcept\u001b[0m \u001b[0mValueError\u001b[0m\u001b[0;34m:\u001b[0m\u001b[0;34m\u001b[0m\u001b[0;34m\u001b[0m\u001b[0m\n",
            "\u001b[0;31mValueError\u001b[0m: could not convert string to float: '168361.07380173192.06950192984.50380197478.01740200415.20430199491.47480196328.07480169375.49580172644.32770191989.45290197550.59670202056.20450198082.08250193372.58140170101.20750177315.48960194521.67990198322.25840199256.12810200364.22820198106.32140172383.66810169914.91700197084.75930199716.40950193384.22610193039.82060189044.22480160100.63140166148.58820189158.82010193022.78550193524.26360193330.79480191497.94630163348.82550166547.72590190861.13920192050.68900194331.82710192678.28200190141.94850163268.27020168771.76880189705.29820191765.60110194560.18900192610.75240192141.83780164318.37710167948.78550190394.54210191874.17080191693.73790190063.32630153601.30160167445.86070176523.22570188986.63350192082.89770190921.17490190571.45360189434.25020168260.65380174243.75770187560.16700188041.40880186961.64240185264.08630184764.46230161219.90810160560.77960169910.32140162333.10210178706.22520186365.16580187549.39230163665.16800172020.25360185319.57160183816.02030188078.13100187265.63390186464.63290165063.03130172094.92770184440.81570181646.96380188426.46480186187.84350186766.16130164766.10890172507.90890184700.61060185232.78880187580.12170185234.01250180347.36950160711.81110170530.75690181815.41020183158.68290181906.51040183126.89680182988.45950154922.98360163519.11750173659.02570172211.93670180203.54570182139.19150181406.53930153904.87670160440.27210151292.53670167334.67350169677.45980172114.43340174185.90400148369.859...",
            "\nDuring handling of the above exception, another exception occurred:\n",
            "\u001b[0;31mValueError\u001b[0m                                Traceback (most recent call last)",
            "\u001b[0;32m/usr/local/lib/python3.7/dist-packages/pandas/core/nanops.py\u001b[0m in \u001b[0;36m_ensure_numeric\u001b[0;34m(x)\u001b[0m\n\u001b[1;32m   1430\u001b[0m             \u001b[0;32mtry\u001b[0m\u001b[0;34m:\u001b[0m\u001b[0;34m\u001b[0m\u001b[0;34m\u001b[0m\u001b[0m\n\u001b[0;32m-> 1431\u001b[0;31m                 \u001b[0mx\u001b[0m \u001b[0;34m=\u001b[0m \u001b[0mcomplex\u001b[0m\u001b[0;34m(\u001b[0m\u001b[0mx\u001b[0m\u001b[0;34m)\u001b[0m\u001b[0;34m\u001b[0m\u001b[0;34m\u001b[0m\u001b[0m\n\u001b[0m\u001b[1;32m   1432\u001b[0m             \u001b[0;32mexcept\u001b[0m \u001b[0mValueError\u001b[0m \u001b[0;32mas\u001b[0m \u001b[0merr\u001b[0m\u001b[0;34m:\u001b[0m\u001b[0;34m\u001b[0m\u001b[0;34m\u001b[0m\u001b[0m\n",
            "\u001b[0;31mValueError\u001b[0m: complex() arg is a malformed string",
            "\nThe above exception was the direct cause of the following exception:\n",
            "\u001b[0;31mTypeError\u001b[0m                                 Traceback (most recent call last)",
            "\u001b[0;32m<ipython-input-18-975e29475114>\u001b[0m in \u001b[0;36m<module>\u001b[0;34m()\u001b[0m\n\u001b[0;32m----> 1\u001b[0;31m \u001b[0mfile\u001b[0m\u001b[0;34m[\u001b[0m\u001b[0;34m'일최대이동인구수'\u001b[0m\u001b[0;34m]\u001b[0m\u001b[0;34m.\u001b[0m\u001b[0mmean\u001b[0m\u001b[0;34m(\u001b[0m\u001b[0;34m)\u001b[0m\u001b[0;34m\u001b[0m\u001b[0;34m\u001b[0m\u001b[0m\n\u001b[0m",
            "\u001b[0;32m/usr/local/lib/python3.7/dist-packages/pandas/core/generic.py\u001b[0m in \u001b[0;36mstat_func\u001b[0;34m(self, axis, skipna, level, numeric_only, **kwargs)\u001b[0m\n\u001b[1;32m  11473\u001b[0m             \u001b[0;32mreturn\u001b[0m \u001b[0mself\u001b[0m\u001b[0;34m.\u001b[0m\u001b[0m_agg_by_level\u001b[0m\u001b[0;34m(\u001b[0m\u001b[0mname\u001b[0m\u001b[0;34m,\u001b[0m \u001b[0maxis\u001b[0m\u001b[0;34m=\u001b[0m\u001b[0maxis\u001b[0m\u001b[0;34m,\u001b[0m \u001b[0mlevel\u001b[0m\u001b[0;34m=\u001b[0m\u001b[0mlevel\u001b[0m\u001b[0;34m,\u001b[0m \u001b[0mskipna\u001b[0m\u001b[0;34m=\u001b[0m\u001b[0mskipna\u001b[0m\u001b[0;34m)\u001b[0m\u001b[0;34m\u001b[0m\u001b[0;34m\u001b[0m\u001b[0m\n\u001b[1;32m  11474\u001b[0m         return self._reduce(\n\u001b[0;32m> 11475\u001b[0;31m             \u001b[0mfunc\u001b[0m\u001b[0;34m,\u001b[0m \u001b[0mname\u001b[0m\u001b[0;34m=\u001b[0m\u001b[0mname\u001b[0m\u001b[0;34m,\u001b[0m \u001b[0maxis\u001b[0m\u001b[0;34m=\u001b[0m\u001b[0maxis\u001b[0m\u001b[0;34m,\u001b[0m \u001b[0mskipna\u001b[0m\u001b[0;34m=\u001b[0m\u001b[0mskipna\u001b[0m\u001b[0;34m,\u001b[0m \u001b[0mnumeric_only\u001b[0m\u001b[0;34m=\u001b[0m\u001b[0mnumeric_only\u001b[0m\u001b[0;34m\u001b[0m\u001b[0;34m\u001b[0m\u001b[0m\n\u001b[0m\u001b[1;32m  11476\u001b[0m         )\n\u001b[1;32m  11477\u001b[0m \u001b[0;34m\u001b[0m\u001b[0m\n",
            "\u001b[0;32m/usr/local/lib/python3.7/dist-packages/pandas/core/series.py\u001b[0m in \u001b[0;36m_reduce\u001b[0;34m(self, op, name, axis, skipna, numeric_only, filter_type, **kwds)\u001b[0m\n\u001b[1;32m   4247\u001b[0m                 )\n\u001b[1;32m   4248\u001b[0m             \u001b[0;32mwith\u001b[0m \u001b[0mnp\u001b[0m\u001b[0;34m.\u001b[0m\u001b[0merrstate\u001b[0m\u001b[0;34m(\u001b[0m\u001b[0mall\u001b[0m\u001b[0;34m=\u001b[0m\u001b[0;34m\"ignore\"\u001b[0m\u001b[0;34m)\u001b[0m\u001b[0;34m:\u001b[0m\u001b[0;34m\u001b[0m\u001b[0;34m\u001b[0m\u001b[0m\n\u001b[0;32m-> 4249\u001b[0;31m                 \u001b[0;32mreturn\u001b[0m \u001b[0mop\u001b[0m\u001b[0;34m(\u001b[0m\u001b[0mdelegate\u001b[0m\u001b[0;34m,\u001b[0m \u001b[0mskipna\u001b[0m\u001b[0;34m=\u001b[0m\u001b[0mskipna\u001b[0m\u001b[0;34m,\u001b[0m \u001b[0;34m**\u001b[0m\u001b[0mkwds\u001b[0m\u001b[0;34m)\u001b[0m\u001b[0;34m\u001b[0m\u001b[0;34m\u001b[0m\u001b[0m\n\u001b[0m\u001b[1;32m   4250\u001b[0m \u001b[0;34m\u001b[0m\u001b[0m\n\u001b[1;32m   4251\u001b[0m     \u001b[0;32mdef\u001b[0m \u001b[0m_reindex_indexer\u001b[0m\u001b[0;34m(\u001b[0m\u001b[0mself\u001b[0m\u001b[0;34m,\u001b[0m \u001b[0mnew_index\u001b[0m\u001b[0;34m,\u001b[0m \u001b[0mindexer\u001b[0m\u001b[0;34m,\u001b[0m \u001b[0mcopy\u001b[0m\u001b[0;34m)\u001b[0m\u001b[0;34m:\u001b[0m\u001b[0;34m\u001b[0m\u001b[0;34m\u001b[0m\u001b[0m\n",
            "\u001b[0;32m/usr/local/lib/python3.7/dist-packages/pandas/core/nanops.py\u001b[0m in \u001b[0;36m_f\u001b[0;34m(*args, **kwargs)\u001b[0m\n\u001b[1;32m     69\u001b[0m             \u001b[0;32mtry\u001b[0m\u001b[0;34m:\u001b[0m\u001b[0;34m\u001b[0m\u001b[0;34m\u001b[0m\u001b[0m\n\u001b[1;32m     70\u001b[0m                 \u001b[0;32mwith\u001b[0m \u001b[0mnp\u001b[0m\u001b[0;34m.\u001b[0m\u001b[0merrstate\u001b[0m\u001b[0;34m(\u001b[0m\u001b[0minvalid\u001b[0m\u001b[0;34m=\u001b[0m\u001b[0;34m\"ignore\"\u001b[0m\u001b[0;34m)\u001b[0m\u001b[0;34m:\u001b[0m\u001b[0;34m\u001b[0m\u001b[0;34m\u001b[0m\u001b[0m\n\u001b[0;32m---> 71\u001b[0;31m                     \u001b[0;32mreturn\u001b[0m \u001b[0mf\u001b[0m\u001b[0;34m(\u001b[0m\u001b[0;34m*\u001b[0m\u001b[0margs\u001b[0m\u001b[0;34m,\u001b[0m \u001b[0;34m**\u001b[0m\u001b[0mkwargs\u001b[0m\u001b[0;34m)\u001b[0m\u001b[0;34m\u001b[0m\u001b[0;34m\u001b[0m\u001b[0m\n\u001b[0m\u001b[1;32m     72\u001b[0m             \u001b[0;32mexcept\u001b[0m \u001b[0mValueError\u001b[0m \u001b[0;32mas\u001b[0m \u001b[0me\u001b[0m\u001b[0;34m:\u001b[0m\u001b[0;34m\u001b[0m\u001b[0;34m\u001b[0m\u001b[0m\n\u001b[1;32m     73\u001b[0m                 \u001b[0;31m# we want to transform an object array\u001b[0m\u001b[0;34m\u001b[0m\u001b[0;34m\u001b[0m\u001b[0;34m\u001b[0m\u001b[0m\n",
            "\u001b[0;32m/usr/local/lib/python3.7/dist-packages/pandas/core/nanops.py\u001b[0m in \u001b[0;36mf\u001b[0;34m(values, axis, skipna, **kwds)\u001b[0m\n\u001b[1;32m    127\u001b[0m                     \u001b[0mresult\u001b[0m \u001b[0;34m=\u001b[0m \u001b[0malt\u001b[0m\u001b[0;34m(\u001b[0m\u001b[0mvalues\u001b[0m\u001b[0;34m,\u001b[0m \u001b[0maxis\u001b[0m\u001b[0;34m=\u001b[0m\u001b[0maxis\u001b[0m\u001b[0;34m,\u001b[0m \u001b[0mskipna\u001b[0m\u001b[0;34m=\u001b[0m\u001b[0mskipna\u001b[0m\u001b[0;34m,\u001b[0m \u001b[0;34m**\u001b[0m\u001b[0mkwds\u001b[0m\u001b[0;34m)\u001b[0m\u001b[0;34m\u001b[0m\u001b[0;34m\u001b[0m\u001b[0m\n\u001b[1;32m    128\u001b[0m             \u001b[0;32melse\u001b[0m\u001b[0;34m:\u001b[0m\u001b[0;34m\u001b[0m\u001b[0;34m\u001b[0m\u001b[0m\n\u001b[0;32m--> 129\u001b[0;31m                 \u001b[0mresult\u001b[0m \u001b[0;34m=\u001b[0m \u001b[0malt\u001b[0m\u001b[0;34m(\u001b[0m\u001b[0mvalues\u001b[0m\u001b[0;34m,\u001b[0m \u001b[0maxis\u001b[0m\u001b[0;34m=\u001b[0m\u001b[0maxis\u001b[0m\u001b[0;34m,\u001b[0m \u001b[0mskipna\u001b[0m\u001b[0;34m=\u001b[0m\u001b[0mskipna\u001b[0m\u001b[0;34m,\u001b[0m \u001b[0;34m**\u001b[0m\u001b[0mkwds\u001b[0m\u001b[0;34m)\u001b[0m\u001b[0;34m\u001b[0m\u001b[0;34m\u001b[0m\u001b[0m\n\u001b[0m\u001b[1;32m    130\u001b[0m \u001b[0;34m\u001b[0m\u001b[0m\n\u001b[1;32m    131\u001b[0m             \u001b[0;32mreturn\u001b[0m \u001b[0mresult\u001b[0m\u001b[0;34m\u001b[0m\u001b[0;34m\u001b[0m\u001b[0m\n",
            "\u001b[0;32m/usr/local/lib/python3.7/dist-packages/pandas/core/nanops.py\u001b[0m in \u001b[0;36mnanmean\u001b[0;34m(values, axis, skipna, mask)\u001b[0m\n\u001b[1;32m    561\u001b[0m         \u001b[0mdtype_count\u001b[0m \u001b[0;34m=\u001b[0m \u001b[0mdtype\u001b[0m\u001b[0;34m\u001b[0m\u001b[0;34m\u001b[0m\u001b[0m\n\u001b[1;32m    562\u001b[0m     \u001b[0mcount\u001b[0m \u001b[0;34m=\u001b[0m \u001b[0m_get_counts\u001b[0m\u001b[0;34m(\u001b[0m\u001b[0mvalues\u001b[0m\u001b[0;34m.\u001b[0m\u001b[0mshape\u001b[0m\u001b[0;34m,\u001b[0m \u001b[0mmask\u001b[0m\u001b[0;34m,\u001b[0m \u001b[0maxis\u001b[0m\u001b[0;34m,\u001b[0m \u001b[0mdtype\u001b[0m\u001b[0;34m=\u001b[0m\u001b[0mdtype_count\u001b[0m\u001b[0;34m)\u001b[0m\u001b[0;34m\u001b[0m\u001b[0;34m\u001b[0m\u001b[0m\n\u001b[0;32m--> 563\u001b[0;31m     \u001b[0mthe_sum\u001b[0m \u001b[0;34m=\u001b[0m \u001b[0m_ensure_numeric\u001b[0m\u001b[0;34m(\u001b[0m\u001b[0mvalues\u001b[0m\u001b[0;34m.\u001b[0m\u001b[0msum\u001b[0m\u001b[0;34m(\u001b[0m\u001b[0maxis\u001b[0m\u001b[0;34m,\u001b[0m \u001b[0mdtype\u001b[0m\u001b[0;34m=\u001b[0m\u001b[0mdtype_sum\u001b[0m\u001b[0;34m)\u001b[0m\u001b[0;34m)\u001b[0m\u001b[0;34m\u001b[0m\u001b[0;34m\u001b[0m\u001b[0m\n\u001b[0m\u001b[1;32m    564\u001b[0m \u001b[0;34m\u001b[0m\u001b[0m\n\u001b[1;32m    565\u001b[0m     \u001b[0;32mif\u001b[0m \u001b[0maxis\u001b[0m \u001b[0;32mis\u001b[0m \u001b[0;32mnot\u001b[0m \u001b[0;32mNone\u001b[0m \u001b[0;32mand\u001b[0m \u001b[0mgetattr\u001b[0m\u001b[0;34m(\u001b[0m\u001b[0mthe_sum\u001b[0m\u001b[0;34m,\u001b[0m \u001b[0;34m\"ndim\"\u001b[0m\u001b[0;34m,\u001b[0m \u001b[0;32mFalse\u001b[0m\u001b[0;34m)\u001b[0m\u001b[0;34m:\u001b[0m\u001b[0;34m\u001b[0m\u001b[0;34m\u001b[0m\u001b[0m\n",
            "\u001b[0;32m/usr/local/lib/python3.7/dist-packages/pandas/core/nanops.py\u001b[0m in \u001b[0;36m_ensure_numeric\u001b[0;34m(x)\u001b[0m\n\u001b[1;32m   1432\u001b[0m             \u001b[0;32mexcept\u001b[0m \u001b[0mValueError\u001b[0m \u001b[0;32mas\u001b[0m \u001b[0merr\u001b[0m\u001b[0;34m:\u001b[0m\u001b[0;34m\u001b[0m\u001b[0;34m\u001b[0m\u001b[0m\n\u001b[1;32m   1433\u001b[0m                 \u001b[0;31m# e.g. \"foo\"\u001b[0m\u001b[0;34m\u001b[0m\u001b[0;34m\u001b[0m\u001b[0;34m\u001b[0m\u001b[0m\n\u001b[0;32m-> 1434\u001b[0;31m                 \u001b[0;32mraise\u001b[0m \u001b[0mTypeError\u001b[0m\u001b[0;34m(\u001b[0m\u001b[0;34mf\"Could not convert {x} to numeric\"\u001b[0m\u001b[0;34m)\u001b[0m \u001b[0;32mfrom\u001b[0m \u001b[0merr\u001b[0m\u001b[0;34m\u001b[0m\u001b[0;34m\u001b[0m\u001b[0m\n\u001b[0m\u001b[1;32m   1435\u001b[0m     \u001b[0;32mreturn\u001b[0m \u001b[0mx\u001b[0m\u001b[0;34m\u001b[0m\u001b[0;34m\u001b[0m\u001b[0m\n\u001b[1;32m   1436\u001b[0m \u001b[0;34m\u001b[0m\u001b[0m\n",
            "\u001b[0;31mTypeError\u001b[0m: Could not convert 168361.07380173192.06950192984.50380197478.01740200415.20430199491.47480196328.07480169375.49580172644.32770191989.45290197550.59670202056.20450198082.08250193372.58140170101.20750177315.48960194521.67990198322.25840199256.12810200364.22820198106.32140172383.66810169914.91700197084.75930199716.40950193384.22610193039.82060189044.22480160100.63140166148.58820189158.82010193022.78550193524.26360193330.79480191497.94630163348.82550166547.72590190861.13920192050.68900194331.82710192678.28200190141.94850163268.27020168771.76880189705.29820191765.60110194560.18900192610.75240192141.83780164318.37710167948.78550190394.54210191874.17080191693.73790190063.32630153601.30160167445.86070176523.22570188986.63350192082.89770190921.17490190571.45360189434.25020168260.65380174243.75770187560.16700188041.40880186961.64240185264.08630184764.46230161219.90810160560.77960169910.32140162333.10210178706.22520186365.16580187549.39230163665.16800172020.25360185319.57160183816.02030188078.13100187265.63390186464.63290165063.03130172094.92770184440.81570181646.96380188426.46480186187.84350186766.16130164766.10890172507.90890184700.61060185232.78880187580.12170185234.01250180347.36950160711.81110170530.75690181815.41020183158.68290181906.51040183126.89680182988.45950154922.98360163519.11750173659.02570172211.93670180203.54570182139.19150181406.53930153904.87670160440.27210151292.53670167334.67350169677.45980172114.43340174185.90400148369.85900157742.6141014961..."
          ]
        }
      ]
    },
    {
      "cell_type": "markdown",
      "metadata": {
        "id": "FLrkrDZSSHSE"
      },
      "source": [
        "* file데이터프레임의 중간값을 확인해라"
      ]
    },
    {
      "cell_type": "code",
      "metadata": {
        "id": "LGghPWtIt3SD"
      },
      "source": [
        "file.median()"
      ],
      "execution_count": null,
      "outputs": []
    },
    {
      "cell_type": "markdown",
      "metadata": {
        "id": "PzaPAWphMqEo"
      },
      "source": [
        "* '일최대이동인구수'열의 중간값을 확인해라"
      ]
    },
    {
      "cell_type": "code",
      "metadata": {
        "id": "4b-MSmvSMqFL"
      },
      "source": [
        ""
      ],
      "execution_count": null,
      "outputs": []
    },
    {
      "cell_type": "markdown",
      "metadata": {
        "id": "vhu60hvjSLeb"
      },
      "source": [
        "* file데이터프레임의 최대값을 계산해라"
      ]
    },
    {
      "cell_type": "code",
      "metadata": {
        "id": "q4ykGVibMWSi"
      },
      "source": [
        "file.max()"
      ],
      "execution_count": null,
      "outputs": []
    },
    {
      "cell_type": "markdown",
      "metadata": {
        "id": "fV6uu19zMvX0"
      },
      "source": [
        "* '일최대이동인구수'열의 최대값을 계산해라"
      ]
    },
    {
      "cell_type": "code",
      "metadata": {
        "id": "KWRSFv_DMvX2"
      },
      "source": [
        ""
      ],
      "execution_count": null,
      "outputs": []
    },
    {
      "cell_type": "markdown",
      "metadata": {
        "id": "kyBDJFiGMX3h"
      },
      "source": [
        "* file데이터프레임의 최솟값을 계산해라"
      ]
    },
    {
      "cell_type": "code",
      "metadata": {
        "id": "3WMN48m_MEAr"
      },
      "source": [
        "file.min()"
      ],
      "execution_count": null,
      "outputs": []
    },
    {
      "cell_type": "markdown",
      "metadata": {
        "id": "1H0Z-LfjMzNK"
      },
      "source": [
        "* '일최대이동인구수'열의 최솟값을 계산해라"
      ]
    },
    {
      "cell_type": "code",
      "metadata": {
        "id": "SFi6-Ut8MzNN"
      },
      "source": [
        ""
      ],
      "execution_count": null,
      "outputs": []
    },
    {
      "cell_type": "markdown",
      "metadata": {
        "id": "p-2CkyUXM8he"
      },
      "source": [
        "* file데이터프레임의 표준편차를 계산해라"
      ]
    },
    {
      "cell_type": "code",
      "metadata": {
        "id": "qVc87VZMM8hg"
      },
      "source": [
        "file.std()"
      ],
      "execution_count": null,
      "outputs": []
    },
    {
      "cell_type": "markdown",
      "metadata": {
        "id": "QZj4OZD_NEQ5"
      },
      "source": [
        "* '일최대이동인구수'열의 표준편차를 계산해라"
      ]
    },
    {
      "cell_type": "code",
      "metadata": {
        "id": "RW646EeRNEQ6"
      },
      "source": [
        ""
      ],
      "execution_count": null,
      "outputs": []
    },
    {
      "cell_type": "markdown",
      "metadata": {
        "id": "UxETcM-fNl-w"
      },
      "source": [
        "* '자치구간이동인구수''와 '일최대이동인구수'의 상관계수를 계산해라"
      ]
    },
    {
      "cell_type": "code",
      "metadata": {
        "id": "ZQMrrvhbNJ5Q"
      },
      "source": [
        "file['자치구간이동인구수','일최대이동인구수'].corr()"
      ],
      "execution_count": null,
      "outputs": []
    },
    {
      "cell_type": "markdown",
      "metadata": {
        "id": "4ktdw0WEO16Y"
      },
      "source": [
        "# Pandas 심화(2)\n",
        "* 판다스 내장 그래픽 활용\n",
        "* 중복 데이터 처리"
      ]
    },
    {
      "cell_type": "markdown",
      "metadata": {
        "id": "ocD9y6YrPACm"
      },
      "source": [
        "* matplotlib라이브러리호출 (mpl로 약칭)"
      ]
    },
    {
      "cell_type": "code",
      "metadata": {
        "id": "TNNVxVlRPACn"
      },
      "source": [
        "import matplotlib as mpl"
      ],
      "execution_count": null,
      "outputs": []
    },
    {
      "cell_type": "markdown",
      "metadata": {
        "id": "Wv7UR8SlPAOi"
      },
      "source": [
        "* matplotlib라이브러리의 pyplot함수 호출 (plt로 약칭)"
      ]
    },
    {
      "cell_type": "code",
      "metadata": {
        "id": "oo5xRwzXPAOj"
      },
      "source": [
        "import matplotlib.pyplot as plt"
      ],
      "execution_count": null,
      "outputs": []
    },
    {
      "cell_type": "code",
      "metadata": {
        "id": "60clgNFPj_XN"
      },
      "source": [
        "data=file.iloc[:, 4:]"
      ],
      "execution_count": null,
      "outputs": []
    },
    {
      "cell_type": "markdown",
      "metadata": {
        "id": "Wpb3hNdXyVrh"
      },
      "source": [
        "* data의 선그래프 그리기"
      ]
    },
    {
      "cell_type": "code",
      "metadata": {
        "id": "aJST_ZDnPAg_"
      },
      "source": [
        "data.plot()"
      ],
      "execution_count": null,
      "outputs": []
    },
    {
      "cell_type": "markdown",
      "metadata": {
        "id": "7pYEpd79RuUo"
      },
      "source": [
        "* data의 히스토그램 그리기"
      ]
    },
    {
      "cell_type": "code",
      "metadata": {
        "id": "aOE3ILt6O972"
      },
      "source": [
        "data.plot(kind='hist')"
      ],
      "execution_count": null,
      "outputs": []
    },
    {
      "cell_type": "markdown",
      "metadata": {
        "id": "nDIKKn_WRyrq"
      },
      "source": [
        "* data의 자치구간이동인구수와 일최대이동인구수 산점도 그리기"
      ]
    },
    {
      "cell_type": "code",
      "metadata": {
        "id": "90oqYbrbSEUC"
      },
      "source": [
        ""
      ],
      "execution_count": null,
      "outputs": []
    },
    {
      "cell_type": "markdown",
      "metadata": {
        "id": "DSlpbt-HSFAW"
      },
      "source": [
        "* data의 자치구간이동인구수와 일최대이동인구수 박스플롯 그리기"
      ]
    },
    {
      "cell_type": "code",
      "metadata": {
        "id": "zR_0hjz0SFcJ"
      },
      "source": [
        ""
      ],
      "execution_count": null,
      "outputs": []
    },
    {
      "cell_type": "markdown",
      "metadata": {
        "id": "DdJOyua5SGf4"
      },
      "source": [
        "* 위의 코드 결과 미세먼지와 초미세먼지중 평균이 높은것은?:(답은 여기에 작성)"
      ]
    },
    {
      "cell_type": "markdown",
      "metadata": {
        "id": "aTE4Osg1ScLT"
      },
      "source": [
        "# 중복 데이터 처리"
      ]
    },
    {
      "cell_type": "markdown",
      "metadata": {
        "id": "7GbJFXoBTnW_"
      },
      "source": [
        "* 다음 사진과 같이 데이터프레임을 생성해라\n",
        "\n",
        "![캡처.PNG](data:image/png;base64,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)"
      ]
    },
    {
      "cell_type": "markdown",
      "metadata": {
        "id": "JO2xGzO5SGoF"
      },
      "source": [
        "* 중복 데이터 확인해라(이전행과 현재행 비교)"
      ]
    },
    {
      "cell_type": "code",
      "metadata": {
        "id": "zwaIarOZSGoG"
      },
      "source": [
        "dataSet= pd.DataFrame({'A':['a','a','b','a','b'],\n",
        "                       'B':[1,1,1,2,1],\n",
        "                       'C':[1,1,2,2,2]})\n",
        "print(dataSet)\n",
        "dataSet_dup = dataSet.duplicated()\n",
        "print(dataSet_dup)"
      ],
      "execution_count": null,
      "outputs": []
    },
    {
      "cell_type": "markdown",
      "metadata": {
        "id": "1jqTsr73SGsE"
      },
      "source": [
        "* 중복 데이터를 삭제하고 고유한 값만을 가지 행들만 남겨라(원본에 저장)"
      ]
    },
    {
      "cell_type": "code",
      "metadata": {
        "id": "Z91xX3ENSGsF"
      },
      "source": [
        "dataSet2 = dataSet.drop_duplicates()\n",
        "print(dataSet2)"
      ],
      "execution_count": null,
      "outputs": []
    },
    {
      "cell_type": "markdown",
      "metadata": {
        "id": "6O7BePQBVXFe"
      },
      "source": [
        "* B열과 C열기준으로 중복 여부를 판단해라"
      ]
    },
    {
      "cell_type": "code",
      "metadata": {
        "id": "F8nBJKhvU0Gr"
      },
      "source": [
        "dataSet_sub = dataSet.drop_duplicates(subset=['B','C'])\n",
        "print(dataSet_sub)"
      ],
      "execution_count": null,
      "outputs": []
    }
  ]
}