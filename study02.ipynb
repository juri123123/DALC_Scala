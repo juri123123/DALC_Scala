{
  "nbformat": 4,
  "nbformat_minor": 0,
  "metadata": {
    "colab": {
      "name": "study02.ipynb",
      "provenance": [],
      "authorship_tag": "ABX9TyO/Mn7Cn/6rridkuibck5M9",
      "include_colab_link": true
    },
    "kernelspec": {
      "name": "python3",
      "display_name": "Python 3"
    },
    "language_info": {
      "name": "python"
    }
  },
  "cells": [
    {
      "cell_type": "markdown",
      "metadata": {
        "id": "view-in-github",
        "colab_type": "text"
      },
      "source": [
        "<a href=\"https://colab.research.google.com/github/juri123123/DALC_Scala/blob/main/study02.ipynb\" target=\"_parent\"><img src=\"https://colab.research.google.com/assets/colab-badge.svg\" alt=\"Open In Colab\"/></a>"
      ]
    },
    {
      "cell_type": "code",
      "metadata": {
        "colab": {
          "base_uri": "https://localhost:8080/"
        },
        "id": "Ap_HsXmno3ct",
        "outputId": "2cf08a8c-40fd-4ed1-a946-2532555469dd"
      },
      "source": [
        "linear_algebra = 88\n",
        "statistics = 91\n",
        "basic_programming = 89\n",
        "science = 83\n",
        "\n",
        "sum = linear_algebra + statistics + basic_programming + science\n",
        "average = sum / 4\n",
        "\n",
        "print(average)"
      ],
      "execution_count": 1,
      "outputs": [
        {
          "output_type": "stream",
          "text": [
            "87.75\n"
          ],
          "name": "stdout"
        }
      ]
    }
  ]
}