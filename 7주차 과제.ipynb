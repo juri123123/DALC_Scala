{
  "nbformat": 4,
  "nbformat_minor": 0,
  "metadata": {
    "colab": {
      "name": "Untitled6.ipynb",
      "provenance": [],
      "authorship_tag": "ABX9TyPhqUJ4DYiWCN0pjis8stt4",
      "include_colab_link": true
    },
    "kernelspec": {
      "name": "python3",
      "display_name": "Python 3"
    },
    "language_info": {
      "name": "python"
    }
  },
  "cells": [
    {
      "cell_type": "markdown",
      "metadata": {
        "id": "view-in-github",
        "colab_type": "text"
      },
      "source": [
        "<a href=\"https://colab.research.google.com/github/juri123123/DALC_Scala/blob/main/7%EC%A3%BC%EC%B0%A8%20%EA%B3%BC%EC%A0%9C.ipynb\" target=\"_parent\"><img src=\"https://colab.research.google.com/assets/colab-badge.svg\" alt=\"Open In Colab\"/></a>"
      ]
    },
    {
      "cell_type": "code",
      "metadata": {
        "id": "6RvDKhYtQzv8"
      },
      "source": [
        "7. 빅데이터 분류 분석"
      ],
      "execution_count": null,
      "outputs": []
    },
    {
      "cell_type": "code",
      "metadata": {
        "id": "rVbxhHcNTwIZ"
      },
      "source": [
        "모델의 모수 : 직선의 위치와 방향을 설명할 수 있는 특정 숫자\n",
        "모수를 찾는 과정 : 적합 (fitting)\n",
        "학습한 모델을 이용하여 레이블이 없는 데이터를 분류하는 것 : 예측 (prediction)\n",
        "\n",
        "Scikit Learn API 사용 단계\n",
        "1. 적절한 추정기 클래스 임포트\n",
        "2. 인스턴스를 생성하고 초모수 설정\n",
        "3. 데이터를 특징 배열과 대상 배열로 준비\n",
        "4. 모델 인스턴스의 fit() 메소드를 호출해서 데이터 학"
      ],
      "execution_count": null,
      "outputs": []
    },
    {
      "cell_type": "code",
      "metadata": {
        "colab": {
          "base_uri": "https://localhost:8080/",
          "height": 173
        },
        "id": "cyFvM5JAV2jn",
        "outputId": "2af9ccdb-3c0d-4e9b-92e5-47903a28e75b"
      },
      "source": [
        "import seaborn as sns\n",
        "iris = sns.load_dataset('iris')\n",
        "iris.head(4)"
      ],
      "execution_count": 1,
      "outputs": [
        {
          "output_type": "execute_result",
          "data": {
            "text/html": [
              "<div>\n",
              "<style scoped>\n",
              "    .dataframe tbody tr th:only-of-type {\n",
              "        vertical-align: middle;\n",
              "    }\n",
              "\n",
              "    .dataframe tbody tr th {\n",
              "        vertical-align: top;\n",
              "    }\n",
              "\n",
              "    .dataframe thead th {\n",
              "        text-align: right;\n",
              "    }\n",
              "</style>\n",
              "<table border=\"1\" class=\"dataframe\">\n",
              "  <thead>\n",
              "    <tr style=\"text-align: right;\">\n",
              "      <th></th>\n",
              "      <th>sepal_length</th>\n",
              "      <th>sepal_width</th>\n",
              "      <th>petal_length</th>\n",
              "      <th>petal_width</th>\n",
              "      <th>species</th>\n",
              "    </tr>\n",
              "  </thead>\n",
              "  <tbody>\n",
              "    <tr>\n",
              "      <th>0</th>\n",
              "      <td>5.1</td>\n",
              "      <td>3.5</td>\n",
              "      <td>1.4</td>\n",
              "      <td>0.2</td>\n",
              "      <td>setosa</td>\n",
              "    </tr>\n",
              "    <tr>\n",
              "      <th>1</th>\n",
              "      <td>4.9</td>\n",
              "      <td>3.0</td>\n",
              "      <td>1.4</td>\n",
              "      <td>0.2</td>\n",
              "      <td>setosa</td>\n",
              "    </tr>\n",
              "    <tr>\n",
              "      <th>2</th>\n",
              "      <td>4.7</td>\n",
              "      <td>3.2</td>\n",
              "      <td>1.3</td>\n",
              "      <td>0.2</td>\n",
              "      <td>setosa</td>\n",
              "    </tr>\n",
              "    <tr>\n",
              "      <th>3</th>\n",
              "      <td>4.6</td>\n",
              "      <td>3.1</td>\n",
              "      <td>1.5</td>\n",
              "      <td>0.2</td>\n",
              "      <td>setosa</td>\n",
              "    </tr>\n",
              "  </tbody>\n",
              "</table>\n",
              "</div>"
            ],
            "text/plain": [
              "   sepal_length  sepal_width  petal_length  petal_width species\n",
              "0           5.1          3.5           1.4          0.2  setosa\n",
              "1           4.9          3.0           1.4          0.2  setosa\n",
              "2           4.7          3.2           1.3          0.2  setosa\n",
              "3           4.6          3.1           1.5          0.2  setosa"
            ]
          },
          "metadata": {
            "tags": []
          },
          "execution_count": 1
        }
      ]
    },
    {
      "cell_type": "code",
      "metadata": {
        "id": "JOpssdDyWC4U"
      },
      "source": [
        "가우스 나이브 베이즈 생성 모델\n",
        "처리 속도가 빠르고 초모수를 선택할 필요가 없어서 기본 분류기로 사용"
      ],
      "execution_count": null,
      "outputs": []
    },
    {
      "cell_type": "code",
      "metadata": {
        "colab": {
          "base_uri": "https://localhost:8080/",
          "height": 232
        },
        "id": "QjikW32iWJT8",
        "outputId": "f08f332d-7486-4dce-8086-b10b83d3b58c"
      },
      "source": [
        "from sklearn.naive_bayes import GaussianNB\n",
        "model = GaussianNB() #모델 인스턴스화\n",
        "\n",
        "from sklearn.model_selection import train_test_split\n",
        "Xtrain, Xtest, ytrain, ytest = train_test_split(X_iris, y_iris, test_size=0.25, random_state = 1)\n",
        "\n",
        "model.fit(Xtrain,ytrain) #(특징행렬, 대상배열)\n",
        "y_model = model.predict(Xtest) #적용\n",
        "\n",
        "from sklearn.metrics import accuracy_score\n",
        "accuracy_score(ytest, y_model);\n"
      ],
      "execution_count": 2,
      "outputs": [
        {
          "output_type": "error",
          "ename": "NameError",
          "evalue": "ignored",
          "traceback": [
            "\u001b[0;31m---------------------------------------------------------------------------\u001b[0m",
            "\u001b[0;31mNameError\u001b[0m                                 Traceback (most recent call last)",
            "\u001b[0;32m<ipython-input-2-00b316ba01f6>\u001b[0m in \u001b[0;36m<module>\u001b[0;34m()\u001b[0m\n\u001b[1;32m      3\u001b[0m \u001b[0;34m\u001b[0m\u001b[0m\n\u001b[1;32m      4\u001b[0m \u001b[0;32mfrom\u001b[0m \u001b[0msklearn\u001b[0m\u001b[0;34m.\u001b[0m\u001b[0mmodel_selection\u001b[0m \u001b[0;32mimport\u001b[0m \u001b[0mtrain_test_split\u001b[0m\u001b[0;34m\u001b[0m\u001b[0;34m\u001b[0m\u001b[0m\n\u001b[0;32m----> 5\u001b[0;31m \u001b[0mXtrain\u001b[0m\u001b[0;34m,\u001b[0m \u001b[0mXtest\u001b[0m\u001b[0;34m,\u001b[0m \u001b[0mytrain\u001b[0m\u001b[0;34m,\u001b[0m \u001b[0mytest\u001b[0m \u001b[0;34m=\u001b[0m \u001b[0mtrain_test_split\u001b[0m\u001b[0;34m(\u001b[0m\u001b[0mX_iris\u001b[0m\u001b[0;34m,\u001b[0m \u001b[0my_iris\u001b[0m\u001b[0;34m,\u001b[0m \u001b[0mtest_size\u001b[0m\u001b[0;34m=\u001b[0m\u001b[0;36m0.25\u001b[0m\u001b[0;34m,\u001b[0m \u001b[0mrandom_state\u001b[0m \u001b[0;34m=\u001b[0m \u001b[0;36m1\u001b[0m\u001b[0;34m)\u001b[0m\u001b[0;34m\u001b[0m\u001b[0;34m\u001b[0m\u001b[0m\n\u001b[0m\u001b[1;32m      6\u001b[0m \u001b[0;34m\u001b[0m\u001b[0m\n\u001b[1;32m      7\u001b[0m \u001b[0mmodel\u001b[0m\u001b[0;34m.\u001b[0m\u001b[0mfit\u001b[0m\u001b[0;34m(\u001b[0m\u001b[0mXtrain\u001b[0m\u001b[0;34m,\u001b[0m\u001b[0mytrain\u001b[0m\u001b[0;34m)\u001b[0m \u001b[0;31m#(특징행렬, 대상배열)\u001b[0m\u001b[0;34m\u001b[0m\u001b[0;34m\u001b[0m\u001b[0m\n",
            "\u001b[0;31mNameError\u001b[0m: name 'X_iris' is not defined"
          ]
        }
      ]
    },
    {
      "cell_type": "code",
      "metadata": {
        "id": "9RXOhdJ6W3MO"
      },
      "source": [
        "초모수 : 학습을 통해 추정되지 않는 모델 모"
      ],
      "execution_count": null,
      "outputs": []
    },
    {
      "cell_type": "code",
      "metadata": {
        "id": "US1BM7u1XGuv"
      },
      "source": [
        "from sklearn.neighbors import KNeighborsClassifier\n",
        "model = KNeighborsClassifier(n_neighbors=1)\n",
        "\n",
        "from sklearn.datasets import load_iris\n",
        "iris = load_iris()\n",
        "X = iris.data\n",
        "y = iris.target\n",
        "\n",
        "model.fit(X,y)\n",
        "\n",
        "from sklearn.metrics import accuracy_score\n",
        "y_model = model.predict(X)\n",
        "accuracy_score(y,y_model)"
      ],
      "execution_count": null,
      "outputs": []
    },
    {
      "cell_type": "code",
      "metadata": {
        "id": "QsSyO82NXq99"
      },
      "source": [
        "from sklearn.model_selection import train_test_split\n",
        "X1,X2,y1,y2 = train_test_split(X,y,random_state=0,train_size=0.5) #데이터분할\n",
        "\n",
        "model.fit(X1, y1)\n",
        "\n",
        "y2_model = model.predict(X2)\n",
        "accuracy_score(y2,y2_model)\n"
      ],
      "execution_count": null,
      "outputs": []
    },
    {
      "cell_type": "code",
      "metadata": {
        "id": "ehG7B2WeYFGm"
      },
      "source": [
        "#2겹 교차 검증\n",
        "\n",
        "y1_model = model.fit(X1,y1).predict(X2)\n",
        "y2_model = model.fit(X2,y2).predixt(X1)\n",
        "score1 = accuracy_score(y1,y1_model)\n",
        "score2 = accuracy_score(y2,y2_model)\n",
        "score = (score1 + score2) / 2\n",
        "print(score)\n",
        "\n",
        "from sklearn.model_selection import cross_val_score\n",
        "cross_val_score(model,X,y,cv=5).mean()"
      ],
      "execution_count": null,
      "outputs": []
    },
    {
      "cell_type": "code",
      "metadata": {
        "id": "Am44i-A4YroI"
      },
      "source": [
        "#단일 관측지 제거 방식\n",
        "\n",
        "from sklearn.model_selection import LeaveOneOut\n",
        "scores = cross_val_score(model,X,y,cv = LeaveOneOut())\n",
        "scores.mean()"
      ],
      "execution_count": null,
      "outputs": []
    },
    {
      "cell_type": "code",
      "metadata": {
        "id": "FypuTk8cY8eQ"
      },
      "source": [
        "나이브 베이즈 기법\n",
        "나이브 : 순진한, 전문 지식이 없는\n",
        "베이즈 정리 : 두 확률 사이에 존재하는 관계를 설명하는 것"
      ],
      "execution_count": null,
      "outputs": []
    },
    {
      "cell_type": "code",
      "metadata": {
        "id": "KIvOM1s3auW2"
      },
      "source": [
        "%matplotlib inline\n",
        "import numpy as np\n",
        "import matplotlib.pyplot as plt\n",
        "import seabron as sns; sns.set()\n",
        "\n",
        "from sklearn.datasets import make_blobs\n",
        "X,y = make_blobs(100,2,centers=2,random_state=2,cluster_std=1.5)\n",
        "plt.scatter(X[:,0],X[:,1],c=y,s=50,cmap='RdBu')"
      ],
      "execution_count": null,
      "outputs": []
    },
    {
      "cell_type": "code",
      "metadata": {
        "id": "EYESlmJzbOHJ"
      },
      "source": [
        "가우시안 생성 모델\n",
        "- 전제: 차원 사이에 공분산이 없는 가우스 분포를 따른다.\n",
        "- 이 모델은 단순히 각 레이블 내 점의 평균과 표준 편차를 구하여 적합할 수 있다.\n",
        "- 각 색상의 타원은 타원의 중심으로 갈수록 확률이 더 커지는 각 레이블에 대한 가우스 생성 모델을 나타낸다.\n"
      ],
      "execution_count": null,
      "outputs": []
    },
    {
      "cell_type": "code",
      "metadata": {
        "id": "EA70H-T5bOIt"
      },
      "source": [
        "from sklearn.naive_bayes import GaussianNB\n",
        "model = GaussianNB()\n",
        "model.fit(X,y)\n",
        "\n",
        "rng = np.random.RandomState(0)\n",
        "Xnew = [-6,-14] + [14,18] * rng.rand(2000,2)\n",
        "ynew = model.predict(Xnew)"
      ],
      "execution_count": null,
      "outputs": []
    },
    {
      "cell_type": "code",
      "metadata": {
        "id": "sqfl1N5ab55m"
      },
      "source": [
        "plt.scatter(X[:,0],X[:,1],c=y,s=50,cmap='RdBu')\n",
        "lim = plt.axis()\n",
        "plt.scatter(Xnew[:,0],Xnew[:,1],c=ynew,s=10,cmap='RdBu',alpha=0.2)\n",
        "plt.axis(lim);"
      ],
      "execution_count": null,
      "outputs": []
    },
    {
      "cell_type": "code",
      "metadata": {
        "id": "MVqMdXhScOKv"
      },
      "source": [
        "ybrob = model.predict_proba(Xnew)\n",
        "yprob[-8:].round(2)"
      ],
      "execution_count": null,
      "outputs": []
    }
  ]
}