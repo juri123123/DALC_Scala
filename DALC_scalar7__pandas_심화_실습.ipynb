{
  "nbformat": 4,
  "nbformat_minor": 0,
  "metadata": {
    "colab": {
      "name": "DALC_scalar7__pandas_심화_실습.ipynb",
      "provenance": [],
      "collapsed_sections": [
        "LEpgg6MllqlP",
        "4ktdw0WEO16Y"
      ],
      "toc_visible": true,
      "include_colab_link": true
    },
    "kernelspec": {
      "name": "python3",
      "display_name": "Python 3"
    },
    "language_info": {
      "name": "python"
    }
  },
  "cells": [
    {
      "cell_type": "markdown",
      "metadata": {
        "id": "view-in-github",
        "colab_type": "text"
      },
      "source": [
        "<a href=\"https://colab.research.google.com/github/juri123123/DALC_Scala/blob/main/DALC_scalar7__pandas_%EC%8B%AC%ED%99%94_%EC%8B%A4%EC%8A%B5.ipynb\" target=\"_parent\"><img src=\"https://colab.research.google.com/assets/colab-badge.svg\" alt=\"Open In Colab\"/></a>"
      ]
    },
    {
      "cell_type": "markdown",
      "metadata": {
        "id": "hUQY0a9AmQB1"
      },
      "source": [
        "# 주관식\n",
        "셀을 더블클릭해서  : 다음에 답을 입력하세요."
      ]
    },
    {
      "cell_type": "markdown",
      "metadata": {
        "id": "s0tu8WgkHe9n"
      },
      "source": [
        "* matplotlib 인터페이스에는 어떤 종류가 있나?\n"
      ]
    },
    {
      "cell_type": "markdown",
      "metadata": {
        "id": "6nQsARbhNrvK"
      },
      "source": [
        "* matlab스타일의 장점은 무엇인가"
      ]
    },
    {
      "cell_type": "markdown",
      "metadata": {
        "id": "O7Cz3tPHMFq8"
      },
      "source": [
        "* 객체지향스타일의 장점은 무엇인가\n"
      ]
    },
    {
      "cell_type": "markdown",
      "metadata": {
        "id": "5KnVjMiLWfEO"
      },
      "source": [
        "* 객체지향스타일은 어떨때 사용하는가"
      ]
    },
    {
      "cell_type": "markdown",
      "metadata": {
        "id": "LEpgg6MllqlP"
      },
      "source": [
        "# 빅데이터 시각화\n",
        "* matplotlib사용\n",
        "* 선그림과 점그림 \n",
        "* 다중 서브플롯\n",
        "\n",
        "해당 질문 밑에 있는 코드셀에 코드를 입력하세요"
      ]
    },
    {
      "cell_type": "markdown",
      "metadata": {
        "id": "ZPLYsr50N48B"
      },
      "source": [
        "# matplotlib 인터페이스"
      ]
    },
    {
      "cell_type": "markdown",
      "metadata": {
        "id": "pSeljp9aWIsn"
      },
      "source": [
        "### matlab스타일 인터페이스"
      ]
    },
    {
      "cell_type": "markdown",
      "metadata": {
        "id": "H0vQPFbZD9nu"
      },
      "source": [
        "* matplotlib라이브러리 사용"
      ]
    },
    {
      "cell_type": "code",
      "metadata": {
        "id": "E8u2sLMVNsbW"
      },
      "source": [
        "import matplotlib as mpl"
      ],
      "execution_count": 1,
      "outputs": []
    },
    {
      "cell_type": "code",
      "metadata": {
        "id": "8NHb_3yTGXk8"
      },
      "source": [
        "import matplotlib.pyplot as plt"
      ],
      "execution_count": 2,
      "outputs": []
    },
    {
      "cell_type": "markdown",
      "metadata": {
        "id": "p_5uwi8CHNKW"
      },
      "source": [
        "* 그래프스타일 클래식으로 설정"
      ]
    },
    {
      "cell_type": "code",
      "metadata": {
        "id": "7gRJmswLmrzq"
      },
      "source": [
        "plt.style.use('classic')"
      ],
      "execution_count": 3,
      "outputs": []
    },
    {
      "cell_type": "code",
      "metadata": {
        "id": "vHp-kJ5vmr-u"
      },
      "source": [
        "import numpy as np\n"
      ],
      "execution_count": 5,
      "outputs": []
    },
    {
      "cell_type": "markdown",
      "metadata": {
        "id": "mt_eg4AlI-2s"
      },
      "source": [
        "* 두 개의 패널 중 첫 번째 패널을 생성하고 현재 축을 설정"
      ]
    },
    {
      "cell_type": "code",
      "metadata": {
        "id": "3wcQvP_EI3Yc"
      },
      "source": [
        "x = np.linspace(-10,10,100)"
      ],
      "execution_count": 6,
      "outputs": []
    },
    {
      "cell_type": "markdown",
      "metadata": {
        "id": "_qM7c0PCJsVB"
      },
      "source": [
        "* 2행 1열 구조 그리드의 첫번째 패널에 사인 그래프 작성"
      ]
    },
    {
      "cell_type": "code",
      "metadata": {
        "id": "Y6IqwzzbpA7K",
        "colab": {
          "base_uri": "https://localhost:8080/",
          "height": 248
        },
        "outputId": "23a64829-d867-467c-acbc-712caf10a5e2"
      },
      "source": [
        "plt.subplot(2,1,1)\n",
        "plt.plot(x, np.sin(x))"
      ],
      "execution_count": 8,
      "outputs": [
        {
          "output_type": "execute_result",
          "data": {
            "text/plain": [
              "[<matplotlib.lines.Line2D at 0x7f80b2676d90>]"
            ]
          },
          "metadata": {
            "tags": []
          },
          "execution_count": 8
        },
        {
          "output_type": "display_data",
          "data": {
            "image/png": "[encoded data removed]",
            "text/plain": [
              "<Figure size 640x480 with 1 Axes>"
            ]
          },
          "metadata": {
            "tags": []
          }
        }
      ]
    },
    {
      "cell_type": "markdown",
      "metadata": {
        "id": "x3-9VHZbSsu5"
      },
      "source": [
        "* 2행 1열 구조 그리드의 두번째 패널에 코사인 그래프 작성"
      ]
    },
    {
      "cell_type": "code",
      "metadata": {
        "id": "ZLB4WiwfSsvC",
        "colab": {
          "base_uri": "https://localhost:8080/",
          "height": 248
        },
        "outputId": "be3a26bf-72aa-4780-c314-7d775d2ae9a8"
      },
      "source": [
        "plt.subplot(2,1,2)\n",
        "plt.plot(x, np.cos(x))"
      ],
      "execution_count": 9,
      "outputs": [
        {
          "output_type": "execute_result",
          "data": {
            "text/plain": [
              "[<matplotlib.lines.Line2D at 0x7f80b27c3d10>]"
            ]
          },
          "metadata": {
            "tags": []
          },
          "execution_count": 9
        },
        {
          "output_type": "display_data",
          "data": {
            "image/png": "[encoded data removed]",
            "text/plain": [
              "<Figure size 640x480 with 1 Axes>"
            ]
          },
          "metadata": {
            "tags": []
          }
        }
      ]
    },
    {
      "cell_type": "markdown",
      "metadata": {
        "id": "zXi9JehJLzzC"
      },
      "source": [
        "* 2행 1열의 축 객체의 배열을 형성하라"
      ]
    },
    {
      "cell_type": "code",
      "metadata": {
        "id": "SDiypRdGpA1r",
        "colab": {
          "base_uri": "https://localhost:8080/",
          "height": 440
        },
        "outputId": "c64a4fcc-13aa-434b-e37e-5941674f2980"
      },
      "source": [
        "fig, ax = plt.subplots(2,1)"
      ],
      "execution_count": 10,
      "outputs": [
        {
          "output_type": "display_data",
          "data": {
            "image/png": "[encoded data removed]",
            "text/plain": [
              "<Figure size 640x480 with 2 Axes>"
            ]
          },
          "metadata": {
            "tags": []
          }
        }
      ]
    },
    {
      "cell_type": "markdown",
      "metadata": {
        "id": "veju4mmRMgmx"
      },
      "source": [
        "* 위의 형성한 객체에 1행에는 넘파이패키지의 sin()함수를 그려라"
      ]
    },
    {
      "cell_type": "code",
      "metadata": {
        "colab": {
          "base_uri": "https://localhost:8080/"
        },
        "id": "Q6AJELNs3bHc",
        "outputId": "0d0c064a-49ab-4fc1-8fa2-75b90330ace9"
      },
      "source": [
        "ax[0].plot(x, np.sin(x))"
      ],
      "execution_count": 13,
      "outputs": [
        {
          "output_type": "execute_result",
          "data": {
            "text/plain": [
              "[<matplotlib.lines.Line2D at 0x7f80ae4c45d0>]"
            ]
          },
          "metadata": {
            "tags": []
          },
          "execution_count": 13
        }
      ]
    },
    {
      "cell_type": "code",
      "metadata": {
        "id": "zoC3coUxpApz"
      },
      "source": [
        ""
      ],
      "execution_count": null,
      "outputs": []
    },
    {
      "cell_type": "markdown",
      "metadata": {
        "id": "KW7fLJ8eMjKZ"
      },
      "source": [
        "* 위의 형성한 객체에 1행에는 넘파이패키지의 sin()함수를 그려라"
      ]
    },
    {
      "cell_type": "code",
      "metadata": {
        "id": "x06fkqr0VtJT",
        "colab": {
          "base_uri": "https://localhost:8080/"
        },
        "outputId": "df5af217-4e98-427d-bc8b-502c58cfd471"
      },
      "source": [
        "ax[1].plot(x, np.cos(x))"
      ],
      "execution_count": 12,
      "outputs": [
        {
          "output_type": "execute_result",
          "data": {
            "text/plain": [
              "[<matplotlib.lines.Line2D at 0x7f80ae4c4610>]"
            ]
          },
          "metadata": {
            "tags": []
          },
          "execution_count": 12
        }
      ]
    },
    {
      "cell_type": "markdown",
      "metadata": {
        "id": "5cXl2t8QXOM9"
      },
      "source": [
        "### 기본선그림"
      ]
    },
    {
      "cell_type": "markdown",
      "metadata": {
        "id": "U56XiDtTMpCq"
      },
      "source": [
        "### 선그림(lineplot)\n",
        "* 위와 같은 것이 %로 시작하는 것을 jupyter notebook의 magic command라고 한다.\n",
        "* %who는 변수명의 리스트를 보여주고 %magic 은 모든 매직명령어를 보여준다.\n",
        "* 전체적인 magic 명령어에 대해서는 다음 블로그를 참고\n",
        "* http://studymake.tistory.com/601\n",
        "* matplotlib 을 jupyter notebook에서 사용할 때, plot의 이미지를 보여주기 위해 magic command를 사용하는데,\n",
        "* 이때 우리가 사용하는 inline 이외에도 다음과 같은 요소를 사용할 수 있다.\n",
        "* Available matplotlib backends: ['osx', 'qt4', 'qt5', 'gtk3', 'notebook', 'wx', 'qt', 'nbagg','gtk', 'tk', 'inline']\n"
      ]
    },
    {
      "cell_type": "code",
      "metadata": {
        "id": "julPwkbal-5w"
      },
      "source": [
        "%matplotlib inline\n",
        "import matplotlib.pyplot as plt\n",
        "plt.style.use('seaborn-whitegrid')\n",
        "import pandas as pd\n",
        "import numpy as np"
      ],
      "execution_count": 17,
      "outputs": []
    },
    {
      "cell_type": "markdown",
      "metadata": {
        "id": "g5Hetg75aMch"
      },
      "source": [
        "*  Series를 통한 line plot 그리기"
      ]
    },
    {
      "cell_type": "code",
      "metadata": {
        "colab": {
          "base_uri": "https://localhost:8080/"
        },
        "id": "SrVUy7LTZ9wZ",
        "outputId": "e0cf063c-87d1-48c2-abfb-b67fbf4fc6a2"
      },
      "source": [
        "s = pd.Series(np.random.randn(10).cumsum(), index=np.arange(0, 100, 10))\n",
        "s"
      ],
      "execution_count": 18,
      "outputs": [
        {
          "output_type": "execute_result",
          "data": {
            "text/plain": [
              "0     2.280634\n",
              "10    0.837210\n",
              "20    0.915952\n",
              "30    1.731755\n",
              "40    1.902901\n",
              "50    3.130461\n",
              "60    4.635350\n",
              "70    3.991679\n",
              "80    3.389378\n",
              "90    4.413935\n",
              "dtype: float64"
            ]
          },
          "metadata": {
            "tags": []
          },
          "execution_count": 18
        }
      ]
    },
    {
      "cell_type": "markdown",
      "metadata": {
        "id": "alJg_1dZanBU"
      },
      "source": [
        "* 시리즈 s의 선그래프를 그려라"
      ]
    },
    {
      "cell_type": "code",
      "metadata": {
        "id": "37a_XyCFamNX",
        "colab": {
          "base_uri": "https://localhost:8080/",
          "height": 290
        },
        "outputId": "d1ebf15d-a459-4039-8164-ef4654c1b3bc"
      },
      "source": [
        "s.plot()"
      ],
      "execution_count": 20,
      "outputs": [
        {
          "output_type": "execute_result",
          "data": {
            "text/plain": [
              "<matplotlib.axes._subplots.AxesSubplot at 0x7f80ae4d3d90>"
            ]
          },
          "metadata": {
            "tags": []
          },
          "execution_count": 20
        },
        {
          "output_type": "display_data",
          "data": {
            "image/png": "[encoded data removed]",
            "text/plain": [
              "<Figure size 432x288 with 1 Axes>"
            ]
          },
          "metadata": {
            "tags": []
          }
        }
      ]
    },
    {
      "cell_type": "markdown",
      "metadata": {
        "id": "qXpe7lBWaY6U"
      },
      "source": [
        "*  DataFrame를 통한 line plot 그리기"
      ]
    },
    {
      "cell_type": "code",
      "metadata": {
        "colab": {
          "base_uri": "https://localhost:8080/",
          "height": 359
        },
        "id": "WRn4_EQNab0M",
        "outputId": "f0e08054-b13b-459a-b16d-5cafb4112064"
      },
      "source": [
        "df = pd.DataFrame(np.random.randn(10, 4).cumsum(axis=0),\n",
        "                  columns=[\"A\", \"B\", \"C\", \"D\"],\n",
        "                  index=np.arange(0, 100, 10))\n",
        "df"
      ],
      "execution_count": 21,
      "outputs": [
        {
          "output_type": "execute_result",
          "data": {
            "text/html": [
              "<div>\n",
              "<style scoped>\n",
              "    .dataframe tbody tr th:only-of-type {\n",
              "        vertical-align: middle;\n",
              "    }\n",
              "\n",
              "    .dataframe tbody tr th {\n",
              "        vertical-align: top;\n",
              "    }\n",
              "\n",
              "    .dataframe thead th {\n",
              "        text-align: right;\n",
              "    }\n",
              "</style>\n",
              "<table border=\"1\" class=\"dataframe\">\n",
              "  <thead>\n",
              "    <tr style=\"text-align: right;\">\n",
              "      <th></th>\n",
              "      <th>A</th>\n",
              "      <th>B</th>\n",
              "      <th>C</th>\n",
              "      <th>D</th>\n",
              "    </tr>\n",
              "  </thead>\n",
              "  <tbody>\n",
              "    <tr>\n",
              "      <th>0</th>\n",
              "      <td>-2.469360</td>\n",
              "      <td>-1.728100</td>\n",
              "      <td>1.677676</td>\n",
              "      <td>0.484898</td>\n",
              "    </tr>\n",
              "    <tr>\n",
              "      <th>10</th>\n",
              "      <td>-3.893582</td>\n",
              "      <td>-1.883469</td>\n",
              "      <td>1.266973</td>\n",
              "      <td>0.800432</td>\n",
              "    </tr>\n",
              "    <tr>\n",
              "      <th>20</th>\n",
              "      <td>-3.886980</td>\n",
              "      <td>-2.183428</td>\n",
              "      <td>0.969183</td>\n",
              "      <td>1.989567</td>\n",
              "    </tr>\n",
              "    <tr>\n",
              "      <th>30</th>\n",
              "      <td>-4.012479</td>\n",
              "      <td>-2.306374</td>\n",
              "      <td>-0.256775</td>\n",
              "      <td>1.982858</td>\n",
              "    </tr>\n",
              "    <tr>\n",
              "      <th>40</th>\n",
              "      <td>-4.028086</td>\n",
              "      <td>-1.972840</td>\n",
              "      <td>-1.028501</td>\n",
              "      <td>0.439835</td>\n",
              "    </tr>\n",
              "    <tr>\n",
              "      <th>50</th>\n",
              "      <td>-3.814284</td>\n",
              "      <td>-1.882962</td>\n",
              "      <td>-1.841129</td>\n",
              "      <td>1.659104</td>\n",
              "    </tr>\n",
              "    <tr>\n",
              "      <th>60</th>\n",
              "      <td>-4.570730</td>\n",
              "      <td>-2.386802</td>\n",
              "      <td>-1.524517</td>\n",
              "      <td>2.517901</td>\n",
              "    </tr>\n",
              "    <tr>\n",
              "      <th>70</th>\n",
              "      <td>-4.660720</td>\n",
              "      <td>-1.670060</td>\n",
              "      <td>-1.856021</td>\n",
              "      <td>1.746146</td>\n",
              "    </tr>\n",
              "    <tr>\n",
              "      <th>80</th>\n",
              "      <td>-6.315721</td>\n",
              "      <td>-2.204730</td>\n",
              "      <td>-1.320256</td>\n",
              "      <td>1.423838</td>\n",
              "    </tr>\n",
              "    <tr>\n",
              "      <th>90</th>\n",
              "      <td>-6.928193</td>\n",
              "      <td>-0.610590</td>\n",
              "      <td>-1.276770</td>\n",
              "      <td>2.101883</td>\n",
              "    </tr>\n",
              "  </tbody>\n",
              "</table>\n",
              "</div>"
            ],
            "text/plain": [
              "           A         B         C         D\n",
              "0  -2.469360 -1.728100  1.677676  0.484898\n",
              "10 -3.893582 -1.883469  1.266973  0.800432\n",
              "20 -3.886980 -2.183428  0.969183  1.989567\n",
              "30 -4.012479 -2.306374 -0.256775  1.982858\n",
              "40 -4.028086 -1.972840 -1.028501  0.439835\n",
              "50 -3.814284 -1.882962 -1.841129  1.659104\n",
              "60 -4.570730 -2.386802 -1.524517  2.517901\n",
              "70 -4.660720 -1.670060 -1.856021  1.746146\n",
              "80 -6.315721 -2.204730 -1.320256  1.423838\n",
              "90 -6.928193 -0.610590 -1.276770  2.101883"
            ]
          },
          "metadata": {
            "tags": []
          },
          "execution_count": 21
        }
      ]
    },
    {
      "cell_type": "markdown",
      "metadata": {
        "id": "DY8egKYQavl3"
      },
      "source": [
        "* 데이터프레임 df의 선그래프를 그려라"
      ]
    },
    {
      "cell_type": "code",
      "metadata": {
        "id": "MiXr_ycxamDZ",
        "colab": {
          "base_uri": "https://localhost:8080/",
          "height": 290
        },
        "outputId": "9cdf7950-f3b6-400e-8bf7-afae343ac5af"
      },
      "source": [
        "df.plot()"
      ],
      "execution_count": 22,
      "outputs": [
        {
          "output_type": "execute_result",
          "data": {
            "text/plain": [
              "<matplotlib.axes._subplots.AxesSubplot at 0x7f80ae1dfd10>"
            ]
          },
          "metadata": {
            "tags": []
          },
          "execution_count": 22
        },
        {
          "output_type": "display_data",
          "data": {
            "image/png": "[encoded data removed]",
            "text/plain": [
              "<Figure size 432x288 with 1 Axes>"
            ]
          },
          "metadata": {
            "tags": []
          }
        }
      ]
    },
    {
      "cell_type": "markdown",
      "metadata": {
        "id": "_hFLRAXVa2Xp"
      },
      "source": [
        "* 데이터프레임 df의 B열에 대해서만 선그래프를 그려라"
      ]
    },
    {
      "cell_type": "code",
      "metadata": {
        "id": "IYNO2wWaakKH",
        "colab": {
          "base_uri": "https://localhost:8080/",
          "height": 285
        },
        "outputId": "f30832dd-bea7-4b24-fe53-bdc1722ba7e5"
      },
      "source": [
        "df.B.plot()"
      ],
      "execution_count": 25,
      "outputs": [
        {
          "output_type": "execute_result",
          "data": {
            "text/plain": [
              "<matplotlib.axes._subplots.AxesSubplot at 0x7f80ae4fdc50>"
            ]
          },
          "metadata": {
            "tags": []
          },
          "execution_count": 25
        },
        {
          "output_type": "display_data",
          "data": {
            "image/png": "[encoded data removed]",
            "text/plain": [
              "<Figure size 432x288 with 1 Axes>"
            ]
          },
          "metadata": {
            "tags": []
          }
        }
      ]
    },
    {
      "cell_type": "code",
      "metadata": {
        "colab": {
          "base_uri": "https://localhost:8080/"
        },
        "id": "aub_wxpJbEG2",
        "outputId": "0d125a67-1125-4409-c960-1e96c6591554"
      },
      "source": [
        "s2 = pd.Series(np.random.rand(16), index=list(\"abcdefghijklmnop\"))\n",
        "s2"
      ],
      "execution_count": 26,
      "outputs": [
        {
          "output_type": "execute_result",
          "data": {
            "text/plain": [
              "a    0.867277\n",
              "b    0.506455\n",
              "c    0.804775\n",
              "d    0.375019\n",
              "e    0.713155\n",
              "f    0.754973\n",
              "g    0.820300\n",
              "h    0.483196\n",
              "i    0.952918\n",
              "j    0.267474\n",
              "k    0.987944\n",
              "l    0.002566\n",
              "m    0.572897\n",
              "n    0.160658\n",
              "o    0.765612\n",
              "p    0.813308\n",
              "dtype: float64"
            ]
          },
          "metadata": {
            "tags": []
          },
          "execution_count": 26
        }
      ]
    },
    {
      "cell_type": "markdown",
      "metadata": {
        "id": "xharyGBsOEqC"
      },
      "source": [
        "## 막대그래프그리기"
      ]
    },
    {
      "cell_type": "markdown",
      "metadata": {
        "id": "_t3jDNz2a9l-"
      },
      "source": [
        "* s2열에 대해서 막대그래프를 그려라"
      ]
    },
    {
      "cell_type": "code",
      "metadata": {
        "id": "Qm1HkVEIa9l_",
        "colab": {
          "base_uri": "https://localhost:8080/",
          "height": 288
        },
        "outputId": "0c385f4c-7e22-48f9-e5c5-c552d79d2374"
      },
      "source": [
        "s2.plot(kind='bar')"
      ],
      "execution_count": 45,
      "outputs": [
        {
          "output_type": "execute_result",
          "data": {
            "text/plain": [
              "<matplotlib.axes._subplots.AxesSubplot at 0x7f80ae3fe3d0>"
            ]
          },
          "metadata": {
            "tags": []
          },
          "execution_count": 45
        },
        {
          "output_type": "display_data",
          "data": {
            "image/png": "[encoded data removed]",
            "text/plain": [
              "<Figure size 432x288 with 1 Axes>"
            ]
          },
          "metadata": {
            "tags": []
          }
        }
      ]
    },
    {
      "cell_type": "markdown",
      "metadata": {
        "id": "hW7KURw4bRkl"
      },
      "source": [
        "s2열에 대해서 가로방향의 막대그래프를 그려라"
      ]
    },
    {
      "cell_type": "code",
      "metadata": {
        "id": "LzKYe1TsbRkn",
        "colab": {
          "base_uri": "https://localhost:8080/",
          "height": 285
        },
        "outputId": "ee7384a9-f867-4761-f4f2-c209e9e93c91"
      },
      "source": [
        "s2.plot.barh()"
      ],
      "execution_count": 38,
      "outputs": [
        {
          "output_type": "execute_result",
          "data": {
            "text/plain": [
              "<matplotlib.axes._subplots.AxesSubplot at 0x7f80adf48410>"
            ]
          },
          "metadata": {
            "tags": []
          },
          "execution_count": 38
        },
        {
          "output_type": "display_data",
          "data": {
            "image/png": "[encoded data removed]",
            "text/plain": [
              "<Figure size 432x288 with 1 Axes>"
            ]
          },
          "metadata": {
            "tags": []
          }
        }
      ]
    },
    {
      "cell_type": "code",
      "metadata": {
        "colab": {
          "base_uri": "https://localhost:8080/",
          "height": 235
        },
        "id": "ZojuOg-9blaB",
        "outputId": "135b300e-bf9a-42a5-886a-bb7770b501cf"
      },
      "source": [
        "df2 = pd.DataFrame(np.random.rand(6, 4), \n",
        "                   index=[\"one\", \"two\", \"three\", \"four\", \"five\", \"six\"],\n",
        "                   columns=pd.Index([\"A\", \"B\", \"C\", \"D\"], name=\"Genus\"))\n",
        "df2"
      ],
      "execution_count": 40,
      "outputs": [
        {
          "output_type": "execute_result",
          "data": {
            "text/html": [
              "<div>\n",
              "<style scoped>\n",
              "    .dataframe tbody tr th:only-of-type {\n",
              "        vertical-align: middle;\n",
              "    }\n",
              "\n",
              "    .dataframe tbody tr th {\n",
              "        vertical-align: top;\n",
              "    }\n",
              "\n",
              "    .dataframe thead th {\n",
              "        text-align: right;\n",
              "    }\n",
              "</style>\n",
              "<table border=\"1\" class=\"dataframe\">\n",
              "  <thead>\n",
              "    <tr style=\"text-align: right;\">\n",
              "      <th>Genus</th>\n",
              "      <th>A</th>\n",
              "      <th>B</th>\n",
              "      <th>C</th>\n",
              "      <th>D</th>\n",
              "    </tr>\n",
              "  </thead>\n",
              "  <tbody>\n",
              "    <tr>\n",
              "      <th>one</th>\n",
              "      <td>0.761878</td>\n",
              "      <td>0.331308</td>\n",
              "      <td>0.276131</td>\n",
              "      <td>0.299222</td>\n",
              "    </tr>\n",
              "    <tr>\n",
              "      <th>two</th>\n",
              "      <td>0.525198</td>\n",
              "      <td>0.096368</td>\n",
              "      <td>0.551676</td>\n",
              "      <td>0.536652</td>\n",
              "    </tr>\n",
              "    <tr>\n",
              "      <th>three</th>\n",
              "      <td>0.341793</td>\n",
              "      <td>0.433205</td>\n",
              "      <td>0.006734</td>\n",
              "      <td>0.501140</td>\n",
              "    </tr>\n",
              "    <tr>\n",
              "      <th>four</th>\n",
              "      <td>0.837571</td>\n",
              "      <td>0.667773</td>\n",
              "      <td>0.270576</td>\n",
              "      <td>0.821929</td>\n",
              "    </tr>\n",
              "    <tr>\n",
              "      <th>five</th>\n",
              "      <td>0.604812</td>\n",
              "      <td>0.191078</td>\n",
              "      <td>0.458852</td>\n",
              "      <td>0.958906</td>\n",
              "    </tr>\n",
              "    <tr>\n",
              "      <th>six</th>\n",
              "      <td>0.721831</td>\n",
              "      <td>0.700848</td>\n",
              "      <td>0.971191</td>\n",
              "      <td>0.204360</td>\n",
              "    </tr>\n",
              "  </tbody>\n",
              "</table>\n",
              "</div>"
            ],
            "text/plain": [
              "Genus         A         B         C         D\n",
              "one    0.761878  0.331308  0.276131  0.299222\n",
              "two    0.525198  0.096368  0.551676  0.536652\n",
              "three  0.341793  0.433205  0.006734  0.501140\n",
              "four   0.837571  0.667773  0.270576  0.821929\n",
              "five   0.604812  0.191078  0.458852  0.958906\n",
              "six    0.721831  0.700848  0.971191  0.204360"
            ]
          },
          "metadata": {
            "tags": []
          },
          "execution_count": 40
        }
      ]
    },
    {
      "cell_type": "markdown",
      "metadata": {
        "id": "EepLT6U2boT3"
      },
      "source": [
        "* 데이터프레임 df2의 누적막대그래프를 그려라"
      ]
    },
    {
      "cell_type": "code",
      "metadata": {
        "id": "1jR3NEUB8b5b"
      },
      "source": [
        ""
      ],
      "execution_count": null,
      "outputs": []
    },
    {
      "cell_type": "code",
      "metadata": {
        "id": "hlWHHtdSbn7-",
        "colab": {
          "base_uri": "https://localhost:8080/",
          "height": 303
        },
        "outputId": "a76d599e-71d6-49fc-8367-28a19ee6510f"
      },
      "source": [
        "df2.plot(kind='bar',stacked=True)"
      ],
      "execution_count": 46,
      "outputs": [
        {
          "output_type": "execute_result",
          "data": {
            "text/plain": [
              "<matplotlib.axes._subplots.AxesSubplot at 0x7f80ad73f5d0>"
            ]
          },
          "metadata": {
            "tags": []
          },
          "execution_count": 46
        },
        {
          "output_type": "display_data",
          "data": {
            "image/png": "[encoded data removed]",
            "text/plain": [
              "<Figure size 432x288 with 1 Axes>"
            ]
          },
          "metadata": {
            "tags": []
          }
        }
      ]
    },
    {
      "cell_type": "markdown",
      "metadata": {
        "id": "a3cbcWn5b6R8"
      },
      "source": [
        "* 데이터프레임 df2의 가로방향의 누적막대그래프를 그려라"
      ]
    },
    {
      "cell_type": "code",
      "metadata": {
        "id": "Bt37000Yb6SZ",
        "colab": {
          "base_uri": "https://localhost:8080/",
          "height": 285
        },
        "outputId": "9a3e287f-b7e5-4495-85a4-68b5e9364975"
      },
      "source": [
        "df2.plot(kind='barh', stacked=True)"
      ],
      "execution_count": 48,
      "outputs": [
        {
          "output_type": "execute_result",
          "data": {
            "text/plain": [
              "<matplotlib.axes._subplots.AxesSubplot at 0x7f80ad63e710>"
            ]
          },
          "metadata": {
            "tags": []
          },
          "execution_count": 48
        },
        {
          "output_type": "display_data",
          "data": {
            "image/png": "[encoded data removed]",
            "text/plain": [
              "<Figure size 432x288 with 1 Axes>"
            ]
          },
          "metadata": {
            "tags": []
          }
        }
      ]
    },
    {
      "cell_type": "markdown",
      "metadata": {
        "id": "uzHCk1PuPF8K"
      },
      "source": [
        "* s3의 히스토그램을 그려라\n",
        "(히스토그램은 인덱스가 필요없다.)"
      ]
    },
    {
      "cell_type": "code",
      "metadata": {
        "id": "ewQeK3lXtTUH",
        "colab": {
          "base_uri": "https://localhost:8080/"
        },
        "outputId": "6c705e88-32d7-4494-c595-63b421ba6348"
      },
      "source": [
        "s3 = pd.Series(np.random.normal(0, 1, size=200))\n",
        "s3"
      ],
      "execution_count": 49,
      "outputs": [
        {
          "output_type": "execute_result",
          "data": {
            "text/plain": [
              "0     -0.142115\n",
              "1      0.247565\n",
              "2      1.682586\n",
              "3     -0.716165\n",
              "4      0.094111\n",
              "         ...   \n",
              "195    0.273143\n",
              "196    0.344833\n",
              "197    0.409582\n",
              "198    0.758074\n",
              "199   -0.769244\n",
              "Length: 200, dtype: float64"
            ]
          },
          "metadata": {
            "tags": []
          },
          "execution_count": 49
        }
      ]
    },
    {
      "cell_type": "code",
      "metadata": {
        "id": "EIUdDehpmrhn"
      },
      "source": [
        ""
      ],
      "execution_count": null,
      "outputs": []
    },
    {
      "cell_type": "markdown",
      "metadata": {
        "id": "FLrkrDZSSHSE"
      },
      "source": [
        "* x축의 구간개수를50개로 설정하여 s3를 히스토그램으로그려라"
      ]
    },
    {
      "cell_type": "code",
      "metadata": {
        "id": "LGghPWtIt3SD"
      },
      "source": [
        ""
      ],
      "execution_count": null,
      "outputs": []
    },
    {
      "cell_type": "markdown",
      "metadata": {
        "id": "PzaPAWphMqEo"
      },
      "source": [
        "## 산점도 그리기"
      ]
    },
    {
      "cell_type": "code",
      "metadata": {
        "id": "4b-MSmvSMqFL",
        "colab": {
          "base_uri": "https://localhost:8080/",
          "height": 399
        },
        "outputId": "f9395df0-a49e-47a8-bce5-9048c970da9c"
      },
      "source": [
        "x1 = np.random.normal(1, 1, size=(100, 1))\n",
        "x2 = np.random.normal(-2, 4, size=(100, 1))\n",
        "X = np.concatenate((x1, x2), axis=1)\n",
        "df3 = pd.DataFrame(X, columns=[\"x1\", \"x2\"])\n",
        "df3"
      ],
      "execution_count": null,
      "outputs": [
        {
          "output_type": "execute_result",
          "data": {
            "text/html": [
              "<div>\n",
              "<style scoped>\n",
              "    .dataframe tbody tr th:only-of-type {\n",
              "        vertical-align: middle;\n",
              "    }\n",
              "\n",
              "    .dataframe tbody tr th {\n",
              "        vertical-align: top;\n",
              "    }\n",
              "\n",
              "    .dataframe thead th {\n",
              "        text-align: right;\n",
              "    }\n",
              "</style>\n",
              "<table border=\"1\" class=\"dataframe\">\n",
              "  <thead>\n",
              "    <tr style=\"text-align: right;\">\n",
              "      <th></th>\n",
              "      <th>x1</th>\n",
              "      <th>x2</th>\n",
              "    </tr>\n",
              "  </thead>\n",
              "  <tbody>\n",
              "    <tr>\n",
              "      <th>0</th>\n",
              "      <td>2.164951</td>\n",
              "      <td>-6.132267</td>\n",
              "    </tr>\n",
              "    <tr>\n",
              "      <th>1</th>\n",
              "      <td>1.615138</td>\n",
              "      <td>3.221931</td>\n",
              "    </tr>\n",
              "    <tr>\n",
              "      <th>2</th>\n",
              "      <td>1.213518</td>\n",
              "      <td>-0.539978</td>\n",
              "    </tr>\n",
              "    <tr>\n",
              "      <th>3</th>\n",
              "      <td>3.171097</td>\n",
              "      <td>-3.248257</td>\n",
              "    </tr>\n",
              "    <tr>\n",
              "      <th>4</th>\n",
              "      <td>1.938202</td>\n",
              "      <td>-2.150673</td>\n",
              "    </tr>\n",
              "    <tr>\n",
              "      <th>...</th>\n",
              "      <td>...</td>\n",
              "      <td>...</td>\n",
              "    </tr>\n",
              "    <tr>\n",
              "      <th>95</th>\n",
              "      <td>2.202578</td>\n",
              "      <td>-5.027287</td>\n",
              "    </tr>\n",
              "    <tr>\n",
              "      <th>96</th>\n",
              "      <td>0.698536</td>\n",
              "      <td>-8.378725</td>\n",
              "    </tr>\n",
              "    <tr>\n",
              "      <th>97</th>\n",
              "      <td>0.496533</td>\n",
              "      <td>-5.162093</td>\n",
              "    </tr>\n",
              "    <tr>\n",
              "      <th>98</th>\n",
              "      <td>-0.158065</td>\n",
              "      <td>-5.936603</td>\n",
              "    </tr>\n",
              "    <tr>\n",
              "      <th>99</th>\n",
              "      <td>2.335152</td>\n",
              "      <td>-5.155524</td>\n",
              "    </tr>\n",
              "  </tbody>\n",
              "</table>\n",
              "<p>100 rows × 2 columns</p>\n",
              "</div>"
            ],
            "text/plain": [
              "          x1        x2\n",
              "0   2.164951 -6.132267\n",
              "1   1.615138  3.221931\n",
              "2   1.213518 -0.539978\n",
              "3   3.171097 -3.248257\n",
              "4   1.938202 -2.150673\n",
              "..       ...       ...\n",
              "95  2.202578 -5.027287\n",
              "96  0.698536 -8.378725\n",
              "97  0.496533 -5.162093\n",
              "98 -0.158065 -5.936603\n",
              "99  2.335152 -5.155524\n",
              "\n",
              "[100 rows x 2 columns]"
            ]
          },
          "metadata": {
            "tags": []
          },
          "execution_count": 6
        }
      ]
    },
    {
      "cell_type": "markdown",
      "metadata": {
        "id": "vhu60hvjSLeb"
      },
      "source": [
        "* df3의 x1열을 x축으로 x2열을 y축으로 산점도를 그려라"
      ]
    },
    {
      "cell_type": "code",
      "metadata": {
        "id": "q4ykGVibMWSi"
      },
      "source": [
        ""
      ],
      "execution_count": null,
      "outputs": []
    },
    {
      "cell_type": "markdown",
      "metadata": {
        "id": "fV6uu19zMvX0"
      },
      "source": [
        "##  플롯 조정\n",
        "* color\n",
        "\n",
        "값 색상\n",
        "\n",
        "\"b\" blue\n",
        "\n",
        "\"g\" green\n",
        "\n",
        "\"r\" red\n",
        "\n",
        "\"c\" cyan\n",
        "\n",
        "\"m\" magenta\n",
        "\n",
        "\"y\" yellow\n",
        "\n",
        "\"k\" black\n",
        "\n",
        "\"w\" white\n",
        "\n",
        "* marker\n",
        "\n",
        "값 마킹\n",
        "\n",
        "\".\" point\n",
        "\n",
        "\",\" pixel\n",
        "\n",
        "\"o\" circle\n",
        "\n",
        "\"v\" triangle_down\n",
        "\n",
        "\"^\" triangle_up\n",
        "\n",
        "\"<\" triangle_left\n",
        "\n",
        "\">\" triangle_right\n",
        "\n",
        "\"8\" octagon\n",
        "\n",
        "\"s\" square\n",
        "\n",
        "\"p\" pentagon\n",
        "\n",
        "\"*\" star\n",
        "\n",
        "\"h\" hexagon\n",
        "\n",
        "\"+\" plus\n",
        "\n",
        "\"x\" x\n",
        "\n",
        "\"D\" diamond\n",
        "\n",
        "* line style\n",
        "\n",
        "값 라인 스타일\n",
        "\n",
        "\"-\" solid line\n",
        "\n",
        "\"--\" dashed line\n",
        "\n",
        "\"-.\" dash-dotted line\n",
        "\n",
        "\":\" dotted line\n",
        "\n",
        "\"None\" draw nothing\n"
      ]
    },
    {
      "cell_type": "markdown",
      "metadata": {
        "id": "kyBDJFiGMX3h"
      },
      "source": [
        "* plt.plot(np.random.randn(50)에서 색상은 초록, 마킹모양은 원으로 선스타일은 dashed line으로 그려라"
      ]
    },
    {
      "cell_type": "code",
      "metadata": {
        "id": "KWRSFv_DMvX2"
      },
      "source": [
        ""
      ],
      "execution_count": null,
      "outputs": []
    },
    {
      "cell_type": "markdown",
      "metadata": {
        "id": "1H0Z-LfjMzNK"
      },
      "source": [
        "* y=x그래프를 solid green 옵션으로 그려라"
      ]
    },
    {
      "cell_type": "code",
      "metadata": {
        "id": "SFi6-Ut8MzNN"
      },
      "source": [
        ""
      ],
      "execution_count": null,
      "outputs": []
    },
    {
      "cell_type": "markdown",
      "metadata": {
        "id": "p-2CkyUXM8he"
      },
      "source": [
        "* y=x+1그래프를 dashed cyan 옵션으로 그려라"
      ]
    },
    {
      "cell_type": "code",
      "metadata": {
        "id": "qVc87VZMM8hg"
      },
      "source": [
        ""
      ],
      "execution_count": null,
      "outputs": []
    },
    {
      "cell_type": "markdown",
      "metadata": {
        "id": "QZj4OZD_NEQ5"
      },
      "source": [
        "* y=x+2 그래프를 dashdot black 옵션으로 그려라"
      ]
    },
    {
      "cell_type": "code",
      "metadata": {
        "id": "RW646EeRNEQ6"
      },
      "source": [
        ""
      ],
      "execution_count": null,
      "outputs": []
    },
    {
      "cell_type": "markdown",
      "metadata": {
        "id": "UxETcM-fNl-w"
      },
      "source": [
        "* y=x+3그래프를 dotted red 옵션으로 그려라"
      ]
    },
    {
      "cell_type": "code",
      "metadata": {
        "id": "ZQMrrvhbNJ5Q"
      },
      "source": [
        ""
      ],
      "execution_count": null,
      "outputs": []
    },
    {
      "cell_type": "markdown",
      "metadata": {
        "id": "4ezZWnu4O_yG"
      },
      "source": [
        "* 코사인 그래프를 그리고 x축의 범위를 (-1,11)로 y축의 범위를 (1.5,1.5)으로 설정해라"
      ]
    },
    {
      "cell_type": "code",
      "metadata": {
        "id": "TNNVxVlRPACn"
      },
      "source": [
        ""
      ],
      "execution_count": null,
      "outputs": []
    },
    {
      "cell_type": "markdown",
      "metadata": {
        "id": "Wv7UR8SlPAOi"
      },
      "source": [
        "* 자연상수 그래프(np.exp(x)그래프를 그리고 y축의 스케일을 로그로 설정해라"
      ]
    },
    {
      "cell_type": "code",
      "metadata": {
        "id": "oo5xRwzXPAOj"
      },
      "source": [
        ""
      ],
      "execution_count": null,
      "outputs": []
    },
    {
      "cell_type": "markdown",
      "metadata": {
        "id": "K_du-yBjh8Gz"
      },
      "source": [
        "* 사인그래프를 그리고 축의 레이블를 a sine curve로 지정하고 x축의 레이블을 x, y축의 레이블을 sin(x)라 설정해라"
      ]
    },
    {
      "cell_type": "code",
      "metadata": {
        "id": "60clgNFPj_XN"
      },
      "source": [
        ""
      ],
      "execution_count": null,
      "outputs": []
    },
    {
      "cell_type": "markdown",
      "metadata": {
        "id": "XtjJ_JSBPAg8"
      },
      "source": [
        "* 사인그래프를 그리고 옵션을 dash green , 레이블을 'sin(x)'로 \n",
        "* 사인그래프를 그리고 옵션을 dott blue , 레이블을 'cos(x)'로\n",
        "* 두그래프의 x축의 범위를 동기화\n",
        "* 그래프의 제목을 'curves of sine and cosine'\n",
        "* x레이블을 'x'로\n",
        "* 범례표시해라"
      ]
    },
    {
      "cell_type": "code",
      "metadata": {
        "id": "aJST_ZDnPAg_"
      },
      "source": [
        ""
      ],
      "execution_count": null,
      "outputs": []
    }
  ]
}